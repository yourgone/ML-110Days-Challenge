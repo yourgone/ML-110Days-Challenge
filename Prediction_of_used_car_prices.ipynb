{
  "nbformat": 4,
  "nbformat_minor": 0,
  "metadata": {
    "colab": {
      "provenance": [],
      "authorship_tag": "ABX9TyNZV5nAvjDe8e+qPVY14nZ4",
      "include_colab_link": true
    },
    "kernelspec": {
      "name": "python3",
      "display_name": "Python 3"
    },
    "language_info": {
      "name": "python"
    }
  },
  "cells": [
    {
      "cell_type": "markdown",
      "metadata": {
        "id": "view-in-github",
        "colab_type": "text"
      },
      "source": [
        "<a href=\"https://colab.research.google.com/github/lifewjola/110-Days-of-Machine-Learning/blob/main/Prediction_of_used_car_prices.ipynb\" target=\"_parent\"><img src=\"https://colab.research.google.com/assets/colab-badge.svg\" alt=\"Open In Colab\"/></a>"
      ]
    },
    {
      "cell_type": "markdown",
      "source": [
        "# PREDICTING THE PRICE OF USED CARS\n",
        "## Day 17 of 110 Days of Machine Learning Challenge\n",
        "\n",
        "### Project by Anjolaoluwa (Data Princess)\n",
        "\n",
        "![Used cars animation](https://us.123rf.com/450wm/artinspiring/artinspiring1705/artinspiring170500572/78615533-used-cars-store.jpg)\n",
        "\n"
      ],
      "metadata": {
        "id": "hlaqnUVG79Cz"
      }
    },
    {
      "cell_type": "markdown",
      "source": [
        "## Scenario:\n",
        "\n",
        "Just as most businesses operate, Mr. Walter deals with buying and selling of used cars and has employed you to help optimize his business by predicting the resale price of the cars he acquires. As the automotive market is highly dynamic and influenced by various factors, having accurate price predictions will enable Mr. Walter to make well-informed decisions, maximize profits, and offer competitive prices to customers.\n",
        "\n",
        "## Project Idea:\n",
        "\n",
        "Using historical data on used cars, you're to build a predictive model for the selling price. The model will take into account car attributes such as make, model, year of manufacture, mileage, condition, and various technical specifications."
      ],
      "metadata": {
        "id": "JMeyuOZo8GdD"
      }
    },
    {
      "cell_type": "markdown",
      "source": [
        "# USED CAR RESALE PRICE PREDICTION"
      ],
      "metadata": {
        "id": "QQg3h9fxF8jX"
      }
    },
    {
      "cell_type": "markdown",
      "source": [
        "Hello! And welcome to my notebook.\n",
        "\n",
        "I'm Anjolaoluwa Ajayi (AKA Data Princess). Today, we'll be working on an interesting project about predicting the resale price of a used car.\n",
        "\n",
        "## Approach:\n",
        "\n",
        "- Data Collection\n",
        "- Data Preprocessing\n",
        "- Exploratory Data Analysis (EDA)\n",
        "- Feature Engineering\n",
        "- Model Selection\n",
        "- Model Evaluation"
      ],
      "metadata": {
        "id": "ndPMUWs7GFRQ"
      }
    },
    {
      "cell_type": "code",
      "source": [
        "# For data wrangling\n",
        "import numpy as np\n",
        "import pandas as pd\n",
        "\n",
        "# For preprocessing\n",
        "from sklearn.preprocessing import LabelEncoder, OneHotEncoder\n",
        "\n",
        "# For selection\n",
        "from sklearn.model_selection import train_test_split\n",
        "\n",
        "# For visualization\n",
        "import matplotlib.pyplot as plt\n",
        "import seaborn as sns\n",
        "import plotly.express as px\n",
        "import plotly.graph_objects as go\n",
        "from plotly.subplots import make_subplots\n",
        "\n",
        "# For training & testing\n",
        "from sklearn.tree import DecisionTreeRegressor\n",
        "from sklearn.ensemble import RandomForestRegressor\n",
        "\n",
        "# For evaluation\n",
        "from sklearn.metrics import mean_absolute_error, mean_squared_error, r2_score"
      ],
      "metadata": {
        "id": "x2rdfUgkF7Qc"
      },
      "execution_count": null,
      "outputs": []
    },
    {
      "cell_type": "code",
      "source": [
        "# Loading the data into the notebook\n",
        "df = pd.read_csv('/content/car details v4.csv')\n",
        "df.shape"
      ],
      "metadata": {
        "colab": {
          "base_uri": "https://localhost:8080/"
        },
        "id": "4sh1kr9pJnyf",
        "outputId": "504ab501-e590-4db7-c66c-d9172eb4ae4b"
      },
      "execution_count": null,
      "outputs": [
        {
          "output_type": "execute_result",
          "data": {
            "text/plain": [
              "(2059, 20)"
            ]
          },
          "metadata": {},
          "execution_count": 2
        }
      ]
    },
    {
      "cell_type": "markdown",
      "source": [
        "Our dataset has 2059 rows and 20 columns"
      ],
      "metadata": {
        "id": "lCDcRcqNUdXT"
      }
    },
    {
      "cell_type": "markdown",
      "source": [
        "#Data Preprocessing"
      ],
      "metadata": {
        "id": "HOLuwVRAUDfa"
      }
    },
    {
      "cell_type": "markdown",
      "source": [
        "First, we'll check for missing values\n",
        "\n"
      ],
      "metadata": {
        "id": "Vby6wlsGUHYE"
      }
    },
    {
      "cell_type": "code",
      "source": [
        "df.isnull().sum()"
      ],
      "metadata": {
        "colab": {
          "base_uri": "https://localhost:8080/"
        },
        "id": "p7tBO-SgT7tJ",
        "outputId": "7e5864e1-6ed3-4b7f-9e56-caafcc65ae5c"
      },
      "execution_count": null,
      "outputs": [
        {
          "output_type": "execute_result",
          "data": {
            "text/plain": [
              "Make                    0\n",
              "Model                   0\n",
              "Price                   0\n",
              "Year                    0\n",
              "Kilometer               0\n",
              "Fuel Type               0\n",
              "Transmission            0\n",
              "Location                0\n",
              "Color                   0\n",
              "Owner                   0\n",
              "Seller Type             0\n",
              "Engine                 80\n",
              "Max Power              80\n",
              "Max Torque             80\n",
              "Drivetrain            136\n",
              "Length                 64\n",
              "Width                  64\n",
              "Height                 64\n",
              "Seating Capacity       64\n",
              "Fuel Tank Capacity    113\n",
              "dtype: int64"
            ]
          },
          "metadata": {},
          "execution_count": 3
        }
      ]
    },
    {
      "cell_type": "markdown",
      "source": [
        "Wow, we've got some cleaning to do!\n",
        "\n",
        "Let's understand the data further to clean it in the best way possible."
      ],
      "metadata": {
        "id": "jtV_CUHjUphV"
      }
    },
    {
      "cell_type": "code",
      "source": [
        "df.info()"
      ],
      "metadata": {
        "colab": {
          "base_uri": "https://localhost:8080/"
        },
        "id": "7l6JMknKU1y2",
        "outputId": "47412381-f64d-424d-a99d-e354d0aaa7fc"
      },
      "execution_count": null,
      "outputs": [
        {
          "output_type": "stream",
          "name": "stdout",
          "text": [
            "<class 'pandas.core.frame.DataFrame'>\n",
            "RangeIndex: 2059 entries, 0 to 2058\n",
            "Data columns (total 20 columns):\n",
            " #   Column              Non-Null Count  Dtype  \n",
            "---  ------              --------------  -----  \n",
            " 0   Make                2059 non-null   object \n",
            " 1   Model               2059 non-null   object \n",
            " 2   Price               2059 non-null   int64  \n",
            " 3   Year                2059 non-null   int64  \n",
            " 4   Kilometer           2059 non-null   int64  \n",
            " 5   Fuel Type           2059 non-null   object \n",
            " 6   Transmission        2059 non-null   object \n",
            " 7   Location            2059 non-null   object \n",
            " 8   Color               2059 non-null   object \n",
            " 9   Owner               2059 non-null   object \n",
            " 10  Seller Type         2059 non-null   object \n",
            " 11  Engine              1979 non-null   object \n",
            " 12  Max Power           1979 non-null   object \n",
            " 13  Max Torque          1979 non-null   object \n",
            " 14  Drivetrain          1923 non-null   object \n",
            " 15  Length              1995 non-null   float64\n",
            " 16  Width               1995 non-null   float64\n",
            " 17  Height              1995 non-null   float64\n",
            " 18  Seating Capacity    1995 non-null   float64\n",
            " 19  Fuel Tank Capacity  1946 non-null   float64\n",
            "dtypes: float64(5), int64(3), object(12)\n",
            "memory usage: 321.8+ KB\n"
          ]
        }
      ]
    },
    {
      "cell_type": "markdown",
      "source": [
        "It appears we have 4 non-numerical columns and 5 numerical columns that contain null values.\n",
        "\n",
        "Let's explore further to see if these non-numerical columns are categorical/ ordinal or not"
      ],
      "metadata": {
        "id": "yXo3WJkpU-Ke"
      }
    },
    {
      "cell_type": "code",
      "source": [
        "df.nunique()"
      ],
      "metadata": {
        "colab": {
          "base_uri": "https://localhost:8080/"
        },
        "id": "1-FL0Id-VORh",
        "outputId": "60a5d470-daf7-4638-94f4-7e881e8bf913"
      },
      "execution_count": null,
      "outputs": [
        {
          "output_type": "execute_result",
          "data": {
            "text/plain": [
              "Make                    33\n",
              "Model                 1050\n",
              "Price                  619\n",
              "Year                    22\n",
              "Kilometer              847\n",
              "Fuel Type                9\n",
              "Transmission             2\n",
              "Location                77\n",
              "Color                   17\n",
              "Owner                    6\n",
              "Seller Type              3\n",
              "Engine                 108\n",
              "Max Power              335\n",
              "Max Torque             290\n",
              "Drivetrain               3\n",
              "Length                 248\n",
              "Width                  170\n",
              "Height                 196\n",
              "Seating Capacity         6\n",
              "Fuel Tank Capacity      55\n",
              "dtype: int64"
            ]
          },
          "metadata": {},
          "execution_count": 5
        }
      ]
    },
    {
      "cell_type": "code",
      "source": [
        "df.iloc[: , 11:].head()"
      ],
      "metadata": {
        "colab": {
          "base_uri": "https://localhost:8080/",
          "height": 206
        },
        "id": "5Ryi-6dyZeVK",
        "outputId": "cede7894-b00d-449e-999b-ff2a1a31d385"
      },
      "execution_count": null,
      "outputs": [
        {
          "output_type": "execute_result",
          "data": {
            "text/plain": [
              "    Engine           Max Power              Max Torque Drivetrain  Length  \\\n",
              "0  1198 cc   87 bhp @ 6000 rpm       109 Nm @ 4500 rpm        FWD  3990.0   \n",
              "1  1248 cc   74 bhp @ 4000 rpm       190 Nm @ 2000 rpm        FWD  3995.0   \n",
              "2  1197 cc   79 bhp @ 6000 rpm  112.7619 Nm @ 4000 rpm        FWD  3585.0   \n",
              "3  1197 cc   82 bhp @ 6000 rpm       113 Nm @ 4200 rpm        FWD  3995.0   \n",
              "4  239