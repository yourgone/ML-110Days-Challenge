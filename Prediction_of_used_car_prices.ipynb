{
  "nbformat": 4,
  "nbformat_minor": 0,
  "metadata": {
    "colab": {
      "provenance": [],
      "authorship_tag": "ABX9TyNZV5nAvjDe8e+qPVY14nZ4",
      "include_colab_link": true
    },
    "kernelspec": {
      "name": "python3",
      "display_name": "Python 3"
    },
    "language_info": {
      "name": "python"
    }
  },
  "cells": [
    {
      "cell_type": "markdown",
      "metadata": {
        "id": "view-in-github",
        "colab_type": "text"
      },
      "source": [
        "<a href=\"https://colab.research.google.com/github/lifewjola/110-Days-of-Machine-Learning/blob/main/Prediction_of_used_car_prices.ipynb\" target=\"_parent\"><img src=\"https://colab.research.google.com/assets/colab-badge.svg\" alt=\"Open In Colab\"/></a>"
      ]
    },
    {
      "cell_type": "markdown",
      "source": [
        "# PREDICTING THE PRICE OF USED CARS\n",
        "## Day 17 of 110 Days of Machine Learning Challenge\n",
        "\n",
        "### Project by Anjolaoluwa (Data Princess)\n",
        "\n",
        "![Used cars animation](https://us.123rf.com/450wm/artinspiring/artinspiring1705/artinspiring170500572/78615533-used-cars-store.jpg)\n",
        "\n"
      ],
      "metadata": {
        "id": "hlaqnUVG79Cz"
      }
    },
    {
      "cell_type": "markdown",
      "source": [
        "## Scenario:\n",
        "\n",
        "Just as most businesses operate, Mr. Walter deals with buying and selling of used cars and has employed you to help optimize his business by predicting the resale price of the cars he acquires. As the automotive market is highly dynamic and influenced by various factors, having accurate price predictions will enable Mr. Walter to make well-informed decisions, maximize profits, and offer competitive prices to customers.\n",
        "\n",
        "## Project Idea:\n",
        "\n",
        "Using historical data on used cars, you're to build a predictive model for the selling price. The model will take into account car attributes such as make, model, year of manufacture, mileage, condition, and various technical specifications."
      ],
      "metadata": {
        "id": "JMeyuOZo8GdD"
      }
    },
    {
      "cell_type": "markdown",
      "source": [
        "# USED CAR RESALE PRICE PREDICTION"
      ],
      "metadata": {
        "id": "QQg3h9fxF8jX"
      }
    },
    {
      "cell_type": "markdown",
      "source": [
        "Hello! And welcome to my notebook.\n",
        "\n",
        "I'm Anjolaoluwa Ajayi (AKA Data Princess). Today, we'll be working on an interesting project about predicting the resale price of a used car.\n",
        "\n",
        "## Approach:\n",
        "\n",
        "- Data Collection\n",
        "- Data Preprocessing\n",
        "- Exploratory Data Analysis (EDA)\n",
        "- Feature Engineering\n",
        "- Model Selection\n",
        "- Model Evaluation"
      ],
      "metadata": {
        "id": "ndPMUWs7GFRQ"
      }
    },
    {
      "cell_type": "code",
      "source": [
        "# For data wrangling\n",
        "import numpy as np\n",
        "import pandas as pd\n",
        "\n",
        "# For preprocessing\n",
        "from sklearn.preprocessing import LabelEncoder, OneHotEncoder\n",
        "\n",
        "# For selection\n",
        "from sklearn.model_selection import train_test_split\n",
        "\n",
        "# For visualization\n",
        "import matplotlib.pyplot as plt\n",
        "import seaborn as sns\n",
        "import plotly.express as px\n",
        "import plotly.graph_objects as go\n",
        "from plotly.subplots import make_subplots\n",
        "\n",
        "# For training & testing\n",
        "from sklearn.tree import DecisionTreeRegressor\n",
        "from sklearn.ensemble import RandomForestRegressor\n",
        "\n",
        "# For evaluation\n",
        "from sklearn.metrics import mean_absolute_error, mean_squared_error, r2_score"
      ],
      "metadata": {
        "id": "x2rdfUgkF7Qc"
      },
      "execution_count": null,
      "outputs": []
    },
    {
      "cell_type": "code",
      "source": [
        "# Loading the data into the notebook\n",
        "df = pd.read_csv('/content/car details v4.csv')\n",
        "df.shape"
      ],
      "metadata": {
        "colab": {
          "base_uri": "https://localhost:8080/"
        },
        "id": "4sh1kr9pJnyf",
        "outputId": "504ab501-e590-4db7-c66c-d9172eb4ae4b"
      },
      "execution_count": null,
      "outputs": [
        {
          "output_type": "execute_result",
          "data": {
            "text/plain": [
              "(2059, 20)"
            ]
          },
          "metadata": {},
          "execution_count": 2
        }
      ]
    },
    {
      "cell_type": "markdown",
      "source": [
        "Our dataset has 2059 rows and 20 columns"
      ],
      "metadata": {
        "id": "lCDcRcqNUdXT"
      }
    },
    {
      "cell_type": "markdown",
      "source": [
        "#Data Preprocessing"
      ],
      "metadata": {
        "id": "HOLuwVRAUDfa"
      }
    },
    {
      "cell_type": "markdown",
      "source": [
        "First, we'll check for missing values\n",
        "\n"
      ],
      "metadata": {
        "id": "Vby6wlsGUHYE"
      }
    },
    {
      "cell_type": "code",
      "source": [
        "df.isnull().sum()"
      ],
      "metadata": {
        "colab": {
          "base_uri": "https://localhost:8080/"
        },
        "id": "p7tBO-SgT7tJ",
        "outputId": "7e5864e1-6ed3-4b7f-9e56-caafcc65ae5c"
      },
      "execution_count": null,
      "outputs": [
        {
          "output_type": "execute_result",
          "data": {
            "text/plain": [
              "Make                    0\n",
              "Model                   0\n",
              "Price                   0\n",
              "Year                    0\n",
              "Kilometer               0\n",
              "Fuel Type               0\n",
              "Transmission            0\n",
              "Location                0\n",
              "Color                   0\n",
              "Owner                   0\n",
              "Seller Type             0\n",
              "Engine                 80\n",
              "Max Power              80\n",
              "Max Torque             80\n",
              "Drivetrain            136\n",
              "Length                 64\n",
              "Width                  64\n",
              "Height                 64\n",
              "Seating Capacity       64\n",
              "Fuel Tank Capacity    113\n",
              "dtype: int64"
            ]
          },
          "metadata": {},
          "execution_count": 3
        }
      ]
    },
    {
      "cell_type": "markdown",
      "source": [
        "Wow, we've got some cleaning to do!\n",
        "\n",
        "Let's understand the data further to clean it in the best way possible."
      ],
      "metadata": {
        "id": "jtV_CUHjUphV"
      }
    },
    {
      "cell_type": "code",
      "source": [
        "df.info()"
      ],
      "metadata": {
        "colab": {
          "base_uri": "https://localhost:8080/"
        },
        "id": "7l6JMknKU1y2",
        "outputId": "47412381-f64d-424d-a99d-e354d0aaa7fc"
      },
      "execution_count": null,
      "outputs": [
        {
          "output_type": "stream",
          "name": "stdout",
          "text": [
            "<class 'pandas.core.frame.DataFrame'>\n",
            "RangeIndex: 2059 entries, 0 to 2058\n",
            "Data columns (total 20 columns):\n",
            " #   Column              Non-Null Count  Dtype  \n",
            "---  ------              --------------  -----  \n",
            " 0   Make                2059 non-null   object \n",
            " 1   Model               2059 non-null   object \n",
            " 2   Price               2059 non-null   int64  \n",
            " 3   Year                2059 non-null   int64  \n",
            " 4   Kilometer           2059 non-null   int64  \n",
            " 5   Fuel Type           2059 non-null   object \n",
            " 6   Transmission        2059 non-null   object \n",
            " 7   Location            2059 non-null   object \n",
            " 8   Color               2059 non-null   object \n",
            " 9   Owner               2059 non-null   object \n",
            " 10  Seller Type         2059 non-null   object \n",
            " 11  Engine              1979 non-null   object \n",
            " 12  Max Power           1979 non-null   object \n",
            " 13  Max Torque          1979 non-null   object \n",
            " 14  Drivetrain          1923 non-null   object \n",
            " 15  Length              1995 non-null   float64\n",
            " 16  Width               1995 non-null   float64\n",
            " 17  Height              1995 non-null   float64\n",
            " 18  Seating Capacity    1995 non-null   float64\n",
            " 19  Fuel Tank Capacity  1946 non-null   float64\n",
            "dtypes: float64(5), int64(3), object(12)\n",
            "memory usage: 321.8+ KB\n"
          ]
        }
      ]
    },
    {
      "cell_type": "markdown",
      "source": [
        "It appears we have 4 non-numerical columns and 5 numerical columns that contain null values.\n",
        "\n",
        "Let's explore further to see if these non-numerical columns are categorical/ ordinal or not"
      ],
      "metadata": {
        "id": "yXo3WJkpU-Ke"
      }
    },
    {
      "cell_type": "code",
      "source": [
        "df.nunique()"
      ],
      "metadata": {
        "colab": {
          "base_uri": "https://localhost:8080/"
        },
        "id": "1-FL0Id-VORh",
        "outputId": "60a5d470-daf7-4638-94f4-7e881e8bf913"
      },
      "execution_count": null,
      "outputs": [
        {
          "output_type": "execute_result",
          "data": {
            "text/plain": [
              "Make                    33\n",
              "Model                 1050\n",
              "Price                  619\n",
              "Year                    22\n",
              "Kilometer              847\n",
              "Fuel Type                9\n",
              "Transmission             2\n",
              "Location                77\n",
              "Color                   17\n",
              "Owner                    6\n",
              "Seller Type              3\n",
              "Engine                 108\n",
              "Max Power              335\n",
              "Max Torque             290\n",
              "Drivetrain               3\n",
              "Length                 248\n",
              "Width                  170\n",
              "Height                 196\n",
              "Seating Capacity         6\n",
              "Fuel Tank Capacity      55\n",
              "dtype: int64"
            ]
          },
          "metadata": {},
          "execution_count": 5
        }
      ]
    },
    {
      "cell_type": "code",
      "source": [
        "df.iloc[: , 11:].head()"
      ],
      "metadata": {
        "colab": {
          "base_uri": "https://localhost:8080/",
          "height": 206
        },
        "id": "5Ryi-6dyZeVK",
        "outputId": "cede7894-b00d-449e-999b-ff2a1a31d385"
      },
      "execution_count": null,
      "outputs": [
        {
          "output_type": "execute_result",
          "data": {
            "text/plain": [
              "    Engine           Max Power              Max Torque Drivetrain  Length  \\\n",
              "0  1198 cc   87 bhp @ 6000 rpm       109 Nm @ 4500 rpm        FWD  3990.0   \n",
              "1  1248 cc   74 bhp @ 4000 rpm       190 Nm @ 2000 rpm        FWD  3995.0   \n",
              "2  1197 cc   79 bhp @ 6000 rpm  112.7619 Nm @ 4000 rpm        FWD  3585.0   \n",
              "3  1197 cc   82 bhp @ 6000 rpm       113 Nm @ 4200 rpm        FWD  3995.0   \n",
              "4  2393 cc  148 bhp @ 3400 rpm       343 Nm @ 1400 rpm        RWD  4735.0   \n",
              "\n",
              "    Width  Height  Seating Capacity  Fuel Tank Capacity  \n",
              "0  1680.0  1505.0               5.0                35.0  \n",
              "1  1695.0  1555.0               5.0                42.0  \n",
              "2  1595.0  1550.0               5.0                35.0  \n",
              "3  1745.0  1510.0               5.0                37.0  \n",
              "4  1830.0  1795.0               7.0                55.0  "
            ],
            "text/html": [
              "\n",
              "\n",
              "  <div id=\"df-7cfcd8c4-e17f-4d32-9200-c77d18ba8c11\">\n",
              "    <div class=\"colab-df-container\">\n",
              "      <div>\n",
              "<style scoped>\n",
              "    .dataframe tbody tr th:only-of-type {\n",
              "        vertical-align: middle;\n",
              "    }\n",
              "\n",
              "    .dataframe tbody tr th {\n",
              "        vertical-align: top;\n",
              "    }\n",
              "\n",
              "    .dataframe thead th {\n",
              "        text-align: right;\n",
              "    }\n",
              "</style>\n",
              "<table border=\"1\" class=\"dataframe\">\n",
              "  <thead>\n",
              "    <tr style=\"text-align: right;\">\n",
              "      <th></th>\n",
              "      <th>Engine</th>\n",
              "      <th>Max Power</th>\n",
              "      <th>Max Torque</th>\n",
              "      <th>Drivetrain</th>\n",
              "      <th>Length</th>\n",
              "      <th>Width</th>\n",
              "      <th>Height</th>\n",
              "      <th>Seating Capacity</th>\n",
              "      <th>Fuel Tank Capacity</th>\n",
              "    </tr>\n",
              "  </thead>\n",
              "  <tbody>\n",
              "    <tr>\n",
              "      <th>0</th>\n",
              "      <td>1198 cc</td>\n",
              "      <td>87 bhp @ 6000 rpm</td>\n",
              "      <td>109 Nm @ 4500 rpm</td>\n",
              "      <td>FWD</td>\n",
              "      <td>3990.0</td>\n",
              "      <td>1680.0</td>\n",
              "      <td>1505.0</td>\n",
              "      <td>5.0</td>\n",
              "      <td>35.0</td>\n",
              "    </tr>\n",
              "    <tr>\n",
              "      <th>1</th>\n",
              "      <td>1248 cc</td>\n",
              "      <td>74 bhp @ 4000 rpm</td>\n",
              "      <td>190 Nm @ 2000 rpm</td>\n",
              "      <td>FWD</td>\n",
              "      <td>3995.0</td>\n",
              "      <td>1695.0</td>\n",
              "      <td>1555.0</td>\n",
              "      <td>5.0</td>\n",
              "      <td>42.0</td>\n",
              "    </tr>\n",
              "    <tr>\n",
              "      <th>2</th>\n",
              "      <td>1197 cc</td>\n",
              "      <td>79 bhp @ 6000 rpm</td>\n",
              "      <td>112.7619 Nm @ 4000 rpm</td>\n",
              "      <td>FWD</td>\n",
              "      <td>3585.0</td>\n",
              "      <td>1595.0</td>\n",
              "      <td>1550.0</td>\n",
              "      <td>5.0</td>\n",
              "      <td>35.0</td>\n",
              "    </tr>\n",
              "    <tr>\n",
              "      <th>3</th>\n",
              "      <td>1197 cc</td>\n",
              "      <td>82 bhp @ 6000 rpm</td>\n",
              "      <td>113 Nm @ 4200 rpm</td>\n",
              "      <td>FWD</td>\n",
              "      <td>3995.0</td>\n",
              "      <td>1745.0</td>\n",
              "      <td>1510.0</td>\n",
              "      <td>5.0</td>\n",
              "      <td>37.0</td>\n",
              "    </tr>\n",
              "    <tr>\n",
              "      <th>4</th>\n",
              "      <td>2393 cc</td>\n",
              "      <td>148 bhp @ 3400 rpm</td>\n",
              "      <td>343 Nm @ 1400 rpm</td>\n",
              "      <td>RWD</td>\n",
              "      <td>4735.0</td>\n",
              "      <td>1830.0</td>\n",
              "      <td>1795.0</td>\n",
              "      <td>7.0</td>\n",
              "      <td>55.0</td>\n",
              "    </tr>\n",
              "  </tbody>\n",
              "</table>\n",
              "</div>\n",
              "      <button class=\"colab-df-convert\" onclick=\"convertToInteractive('df-7cfcd8c4-e17f-4d32-9200-c77d18ba8c11')\"\n",
              "              title=\"Convert this dataframe to an interactive table.\"\n",
              "              style=\"display:none;\">\n",
              "\n",
              "  <svg xmlns=\"http://www.w3.org/2000/svg\" height=\"24px\"viewBox=\"0 0 24 24\"\n",
              "       width=\"24px\">\n",
              "    <path d=\"M0 0h24v24H0V0z\" fill=\"none\"/>\n",
              "    <path d=\"M18.56 5.44l.94 2.06.94-2.06 2.06-.94-2.06-.94-.94-2.06-.94 2.06-2.06.94zm-11 1L8.5 8.5l.94-2.06 2.06-.94-2.06-.94L8.5 2.5l-.94 2.06-2.06.94zm10 10l.94 2.06.94-2.06 2.06-.94-2.06-.94-.94-2.06-.94 2.06-2.06.94z\"/><path d=\"M17.41 7.96l-1.37-1.37c-.4-.4-.92-.59-1.43-.59-.52 0-1.04.2-1.43.59L10.3 9.45l-7.72 7.72c-.78.78-.78 2.05 0 2.83L4 21.41c.39.39.9.59 1.41.59.51 0 1.02-.2 1.41-.59l7.78-7.78 2.81-2.81c.8-.78.8-2.07 0-2.86zM5.41 20L4 18.59l7.72-7.72 1.47 1.35L5.41 20z\"/>\n",
              "  </svg>\n",
              "      </button>\n",
              "\n",
              "\n",
              "\n",
              "    <div id=\"df-c375e4b7-8991-4fe8-9979-6fe76343f00f\">\n",
              "      <button class=\"colab-df-quickchart\" onclick=\"quickchart('df-c375e4b7-8991-4fe8-9979-6fe76343f00f')\"\n",
              "              title=\"Suggest charts.\"\n",
              "              style=\"display:none;\">\n",
              "\n",
              "<svg xmlns=\"http://www.w3.org/2000/svg\" height=\"24px\"viewBox=\"0 0 24 24\"\n",
              "     width=\"24px\">\n",
              "    <g>\n",
              "        <path d=\"M19 3H5c-1.1 0-2 .9-2 2v14c0 1.1.9 2 2 2h14c1.1 0 2-.9 2-2V5c0-1.1-.9-2-2-2zM9 17H7v-7h2v7zm4 0h-2V7h2v10zm4 0h-2v-4h2v4z\"/>\n",
              "    </g>\n",
              "</svg>\n",
              "      </button>\n",
              "    </div>\n",
              "\n",
              "<style>\n",
              "  .colab-df-quickchart {\n",
              "    background-color: #E8F0FE;\n",
              "    border: none;\n",
              "    border-radius: 50%;\n",
              "    cursor: pointer;\n",
              "    display: none;\n",
              "    fill: #1967D2;\n",
              "    height: 32px;\n",
              "    padding: 0 0 0 0;\n",
              "    width: 32px;\n",
              "  }\n",
              "\n",
              "  .colab-df-quickchart:hover {\n",
              "    background-color: #E2EBFA;\n",
              "    box-shadow: 0px 1px 2px rgba(60, 64, 67, 0.3), 0px 1px 3px 1px rgba(60, 64, 67, 0.15);\n",
              "    fill: #174EA6;\n",
              "  }\n",
              "\n",
              "  [theme=dark] .colab-df-quickchart {\n",
              "    background-color: #3B4455;\n",
              "    fill: #D2E3FC;\n",
              "  }\n",
              "\n",
              "  [theme=dark] .colab-df-quickchart:hover {\n",
              "    background-color: #434B5C;\n",
              "    box-shadow: 0px 1px 3px 1px rgba(0, 0, 0, 0.15);\n",
              "    filter: drop-shadow(0px 1px 2px rgba(0, 0, 0, 0.3));\n",
              "    fill: #FFFFFF;\n",
              "  }\n",
              "</style>\n",
              "\n",
              "    <script>\n",
              "      async function quickchart(key) {\n",
              "        const containerElement = document.querySelector('#' + key);\n",
              "        const charts = await google.colab.kernel.invokeFunction(\n",
              "            'suggestCharts', [key], {});\n",
              "      }\n",
              "    </script>\n",
              "\n",
              "      <script>\n",
              "\n",
              "function displayQuickchartButton(domScope) {\n",
              "  let quickchartButtonEl =\n",
              "    domScope.querySelector('#df-c375e4b7-8991-4fe8-9979-6fe76343f00f button.colab-df-quickchart');\n",
              "  quickchartButtonEl.style.display =\n",
              "    google.colab.kernel.accessAllowed ? 'block' : 'none';\n",
              "}\n",
              "\n",
              "        displayQuickchartButton(document);\n",
              "      </script>\n",
              "      <style>\n",
              "    .colab-df-container {\n",
              "      display:flex;\n",
              "      flex-wrap:wrap;\n",
              "      gap: 12px;\n",
              "    }\n",
              "\n",
              "    .colab-df-convert {\n",
              "      background-color: #E8F0FE;\n",
              "      border: none;\n",
              "      border-radius: 50%;\n",
              "      cursor: pointer;\n",
              "      display: none;\n",
              "      fill: #1967D2;\n",
              "      height: 32px;\n",
              "      padding: 0 0 0 0;\n",
              "      width: 32px;\n",
              "    }\n",
              "\n",
              "    .colab-df-convert:hover {\n",
              "      background-color: #E2EBFA;\n",
              "      box-shadow: 0px 1px 2px rgba(60, 64, 67, 0.3), 0px 1px 3px 1px rgba(60, 64, 67, 0.15);\n",
              "      fill: #174EA6;\n",
              "    }\n",
              "\n",
              "    [theme=dark] .colab-df-convert {\n",
              "      background-color: #3B4455;\n",
              "      fill: #D2E3FC;\n",
              "    }\n",
              "\n",
              "    [theme=dark] .colab-df-convert:hover {\n",
              "      background-color: #434B5C;\n",
              "      box-shadow: 0px 1px 3px 1px rgba(0, 0, 0, 0.15);\n",
              "      filter: drop-shadow(0px 1px 2px rgba(0, 0, 0, 0.3));\n",
              "      fill: #FFFFFF;\n",
              "    }\n",
              "  </style>\n",
              "\n",
              "      <script>\n",
              "        const buttonEl =\n",
              "          document.querySelector('#df-7cfcd8c4-e17f-4d32-9200-c77d18ba8c11 button.colab-df-convert');\n",
              "        buttonEl.style.display =\n",
              "          google.colab.kernel.accessAllowed ? 'block' : 'none';\n",
              "\n",
              "        async function convertToInteractive(key) {\n",
              "          const element = document.querySelector('#df-7cfcd8c4-e17f-4d32-9200-c77d18ba8c11');\n",
              "          const dataTable =\n",
              "            await google.colab.kernel.invokeFunction('convertToInteractive',\n",
              "                                                     [key], {});\n",
              "          if (!dataTable) return;\n",
              "\n",
              "          const docLinkHtml = 'Like what you see? Visit the ' +\n",
              "            '<a target=\"_blank\" href=https://colab.research.google.com/notebooks/data_table.ipynb>data table notebook</a>'\n",
              "            + ' to learn more about interactive tables.';\n",
              "          element.innerHTML = '';\n",
              "          dataTable['output_type'] = 'display_data';\n",
              "          await google.colab.output.renderOutput(dataTable, element);\n",
              "          const docLink = document.createElement('div');\n",
              "          docLink.innerHTML = docLinkHtml;\n",
              "          element.appendChild(docLink);\n",
              "        }\n",
              "      </script>\n",
              "    </div>\n",
              "  </div>\n"
            ]
          },
          "metadata": {},
          "execution_count": 6
        }
      ]
    },
    {
      "cell_type": "markdown",
      "source": [
        "It seems like drivetrain is the only categorical data among the four non numerical columns with missing values.\n",
        "\n",
        "Engine, max power, and max torque columns can however be converted to numerical columns.\n",
        "\n",
        "So let's convert them, shall we?"
      ],
      "metadata": {
        "id": "s-HOs3P7VUBc"
      }
    },
    {
      "cell_type": "code",
      "source": [
        "# Creating new columns 'torque' and 'rotational speed' by extracting numerical values\n",
        "extracted_values = df['Max Torque'].str.extract(r'(\\d+\\.?\\d*) Nm @ (\\d+\\.?\\d*) rpm')\n",
        "\n",
        "# Converting the extracted values to numeric types (float for torque, float for rotational speed)\n",
        "df['torque'] = pd.to_numeric(extracted_values[0], errors='coerce')\n",
        "df['rotational speed'] = pd.to_numeric(extracted_values[1], errors='coerce').astype('float64')\n",
        "# Use 'Int64' to handle missing integer values\n",
        "\n",
        "# Dropping the Max Torque column\n",
        "df.drop('Max Torque', axis=1, inplace=True)\n",
        "\n",
        "df[['torque', 'rotational speed']].head()"
      ],
      "metadata": {
        "colab": {
          "base_uri": "https://localhost:8080/",
          "height": 206
        },
        "id": "1SwIOzqBcLiu",
        "outputId": "dddd138f-3006-40c6-92a0-512435639712"
      },
      "execution_count": null,
      "outputs": [
        {
          "output_type": "execute_result",
          "data": {
            "text/plain": [
              "     torque  rotational speed\n",
              "0  109.0000            4500.0\n",
              "1  190.0000            2000.0\n",
              "2  112.7619            4000.0\n",
              "3  113.0000            4200.0\n",
              "4  343.0000            1400.0"
            ],
            "text/html": [
              "\n",
              "\n",
              "  <div id=\"df-8b397aef-7e7d-4cdb-8606-714477f0db7c\">\n",
              "    <div class=\"colab-df-container\">\n",
              "      <div>\n",
              "<style scoped>\n",
              "    .dataframe tbody tr th:only-of-type {\n",
              "        vertical-align: middle;\n",
              "    }\n",
              "\n",
              "    .dataframe tbody tr th {\n",
              "        vertical-align: top;\n",
              "    }\n",
              "\n",
              "    .dataframe thead th {\n",
              "        text-align: right;\n",
              "    }\n",
              "</style>\n",
              "<table border=\"1\" class=\"dataframe\">\n",
              "  <thead>\n",
              "    <tr style=\"text-align: right;\">\n",
              "      <th></th>\n",
              "      <th>torque</th>\n",
              "      <th>rotational speed</th>\n",
              "    </tr>\n",
              "  </thead>\n",
              "  <tbody>\n",
              "    <tr>\n",
              "      <th>0</th>\n",
              "      <td>109.0000</td>\n",
              "      <td>4500.0</td>\n",
              "    </tr>\n",
              "    <tr>\n",
              "      <th>1</th>\n",
              "      <td>190.0000</td>\n",
              "      <td>2000.0</td>\n",
              "    </tr>\n",
              "    <tr>\n",
              "      <th>2</th>\n",
              "      <td>112.7619</td>\n",
              "      <td>4000.0</td>\n",
              "    </tr>\n",
              "    <tr>\n",
              "      <th>3</th>\n",
              "      <td>113.0000</td>\n",
              "      <td>4200.0</td>\n",
              "    </tr>\n",
              "    <tr>\n",
              "      <th>4</th>\n",
              "      <td>343.0000</td>\n",
              "      <td>1400.0</td>\n",
              "    </tr>\n",
              "  </tbody>\n",
              "</table>\n",
              "</div>\n",
              "      <button class=\"colab-df-convert\" onclick=\"convertToInteractive('df-8b397aef-7e7d-4cdb-8606-714477f0db7c')\"\n",
              "              title=\"Convert this dataframe to an interactive table.\"\n",
              "              style=\"display:none;\">\n",
              "\n",
              "  <svg xmlns=\"http://www.w3.org/2000/svg\" height=\"24px\"viewBox=\"0 0 24 24\"\n",
              "       width=\"24px\">\n",
              "    <path d=\"M0 0h24v24H0V0z\" fill=\"none\"/>\n",
              "    <path d=\"M18.56 5.44l.94 2.06.94-2.06 2.06-.94-2.06-.94-.94-2.06-.94 2.06-2.06.94zm-11 1L8.5 8.5l.94-2.06 2.06-.94-2.06-.94L8.5 2.5l-.94 2.06-2.06.94zm10 10l.94 2.06.94-2.06 2.06-.94-2.06-.94-.94-2.06-.94 2.06-2.06.94z\"/><path d=\"M17.41 7.96l-1.37-1.37c-.4-.4-.92-.59-1.43-.59-.52 0-1.04.2-1.43.59L10.3 9.45l-7.72 7.72c-.78.78-.78 2.05 0 2.83L4 21.41c.39.39.9.59 1.41.59.51 0 1.02-.2 1.41-.59l7.78-7.78 2.81-2.81c.8-.78.8-2.07 0-2.86zM5.41 20L4 18.59l7.72-7.72 1.47 1.35L5.41 20z\"/>\n",
              "  </svg>\n",
              "      </button>\n",
              "\n",
              "\n",
              "\n",
              "    <div id=\"df-1b577dc4-226b-4284-9668-5bd06935c2c4\">\n",
              "      <button class=\"colab-df-quickchart\" onclick=\"quickchart('df-1b577dc4-226b-4284-9668-5bd06935c2c4')\"\n",
              "              title=\"Suggest charts.\"\n",
              "              style=\"display:none;\">\n",
              "\n",
              "<svg xmlns=\"http://www.w3.org/2000/svg\" height=\"24px\"viewBox=\"0 0 24 24\"\n",
              "     width=\"24px\">\n",
              "    <g>\n",
              "        <path d=\"M19 3H5c-1.1 0-2 .9-2 2v14c0 1.1.9 2 2 2h14c1.1 0 2-.9 2-2V5c0-1.1-.9-2-2-2zM9 17H7v-7h2v7zm4 0h-2V7h2v10zm4 0h-2v-4h2v4z\"/>\n",
              "    </g>\n",
              "</svg>\n",
              "      </button>\n",
              "    </div>\n",
              "\n",
              "<style>\n",
              "  .colab-df-quickchart {\n",
              "    background-color: #E8F0FE;\n",
              "    border: none;\n",
              "    border-radius: 50%;\n",
              "    cursor: pointer;\n",
              "    display: none;\n",
              "    fill: #1967D2;\n",
              "    height: 32px;\n",
              "    padding: 0 0 0 0;\n",
              "    width: 32px;\n",
              "  }\n",
              "\n",
              "  .colab-df-quickchart:hover {\n",
              "    background-color: #E2EBFA;\n",
              "    box-shadow: 0px 1px 2px rgba(60, 64, 67, 0.3), 0px 1px 3px 1px rgba(60, 64, 67, 0.15);\n",
              "    fill: #174EA6;\n",
              "  }\n",
              "\n",
              "  [theme=dark] .colab-df-quickchart {\n",
              "    background-color: #3B4455;\n",
              "    fill: #D2E3FC;\n",
              "  }\n",
              "\n",
              "  [theme=dark] .colab-df-quickchart:hover {\n",
              "    background-color: #434B5C;\n",
              "    box-shadow: 0px 1px 3px 1px rgba(0, 0, 0, 0.15);\n",
              "    filter: drop-shadow(0px 1px 2px rgba(0, 0, 0, 0.3));\n",
              "    fill: #FFFFFF;\n",
              "  }\n",
              "</style>\n",
              "\n",
              "    <script>\n",
              "      async function quickchart(key) {\n",
              "        const containerElement = document.querySelector('#' + key);\n",
              "        const charts = await google.colab.kernel.invokeFunction(\n",
              "            'suggestCharts', [key], {});\n",
              "      }\n",
              "    </script>\n",
              "\n",
              "      <script>\n",
              "\n",
              "function displayQuickchartButton(domScope) {\n",
              "  let quickchartButtonEl =\n",
              "    domScope.querySelector('#df-1b577dc4-226b-4284-9668-5bd06935c2c4 button.colab-df-quickchart');\n",
              "  quickchartButtonEl.style.display =\n",
              "    google.colab.kernel.accessAllowed ? 'block' : 'none';\n",
              "}\n",
              "\n",
              "        displayQuickchartButton(document);\n",
              "      </script>\n",
              "      <style>\n",
              "    .colab-df-container {\n",
              "      display:flex;\n",
              "      flex-wrap:wrap;\n",
              "      gap: 12px;\n",
              "    }\n",
              "\n",
              "    .colab-df-convert {\n",
              "      background-color: #E8F0FE;\n",
              "      border: none;\n",
              "      border-radius: 50%;\n",
              "      cursor: pointer;\n",
              "      display: none;\n",
              "      fill: #1967D2;\n",
              "      height: 32px;\n",
              "      padding: 0 0 0 0;\n",
              "      width: 32px;\n",
              "    }\n",
              "\n",
              "    .colab-df-convert:hover {\n",
              "      background-color: #E2EBFA;\n",
              "      box-shadow: 0px 1px 2px rgba(60, 64, 67, 0.3), 0px 1px 3px 1px rgba(60, 64, 67, 0.15);\n",
              "      fill: #174EA6;\n",
              "    }\n",
              "\n",
              "    [theme=dark] .colab-df-convert {\n",
              "      background-color: #3B4455;\n",
              "      fill: #D2E3FC;\n",
              "    }\n",
              "\n",
              "    [theme=dark] .colab-df-convert:hover {\n",
              "      background-color: #434B5C;\n",
              "      box-shadow: 0px 1px 3px 1px rgba(0, 0, 0, 0.15);\n",
              "      filter: drop-shadow(0px 1px 2px rgba(0, 0, 0, 0.3));\n",
              "      fill: #FFFFFF;\n",
              "    }\n",
              "  </style>\n",
              "\n",
              "      <script>\n",
              "        const buttonEl =\n",
              "          document.querySelector('#df-8b397aef-7e7d-4cdb-8606-714477f0db7c button.colab-df-convert');\n",
              "        buttonEl.style.display =\n",
              "          google.colab.kernel.accessAllowed ? 'block' : 'none';\n",
              "\n",
              "        async function convertToInteractive(key) {\n",
              "          const element = document.querySelector('#df-8b397aef-7e7d-4cdb-8606-714477f0db7c');\n",
              "          const dataTable =\n",
              "            await google.colab.kernel.invokeFunction('convertToInteractive',\n",
              "                                                     [key], {});\n",
              "          if (!dataTable) return;\n",
              "\n",
              "          const docLinkHtml = 'Like what you see? Visit the ' +\n",
              "            '<a target=\"_blank\" href=https://colab.research.google.com/notebooks/data_table.ipynb>data table notebook</a>'\n",
              "            + ' to learn more about interactive tables.';\n",
              "          element.innerHTML = '';\n",
              "          dataTable['output_type'] = 'display_data';\n",
              "          await google.colab.output.renderOutput(dataTable, element);\n",
              "          const docLink = document.createElement('div');\n",
              "          docLink.innerHTML = docLinkHtml;\n",
              "          element.appendChild(docLink);\n",
              "        }\n",
              "      </script>\n",
              "    </div>\n",
              "  </div>\n"
            ]
          },
          "metadata": {},
          "execution_count": 7
        }
      ]
    },
    {
      "cell_type": "code",
      "source": [
        "# Doing the same for Max Power\n",
        "\n",
        "# Creating new columns 'power' and 'rotational_speed' by extracting numerical values\n",
        "extracted_valuess = df['Max Power'].str.extract(r'(\\d+\\.?\\d*) bhp @ (\\d+\\.?\\d*) rpm')\n",
        "\n",
        "# Converting the extracted values to numeric types just as done with the power torque\n",
        "df['power'] = pd.to_numeric(extracted_valuess[0], errors='coerce')\n",
        "df['rotational_speed'] = pd.to_numeric(extracted_valuess[1], errors='coerce')\n",
        "\n",
        "# Dropping the Max Power column\n",
        "df.drop('Max Power', axis=1, inplace=True)\n",
        "\n",
        "df[['power', 'rotational_speed']].head()"
      ],
      "metadata": {
        "colab": {
          "base_uri": "https://localhost:8080/",
          "height": 206
        },
        "id": "V-bAQC6le0-7",
        "outputId": "b7ec5630-20e9-4b77-89dd-c0dff3aa7035"
      },
      "execution_count": null,
      "outputs": [
        {
          "output_type": "execute_result",
          "data": {
            "text/plain": [
              "   power  rotational_speed\n",
              "0   87.0            6000.0\n",
              "1   74.0            4000.0\n",
              "2   79.0            6000.0\n",
              "3   82.0            6000.0\n",
              "4  148.0            3400.0"
            ],
            "text/html": [
              "\n",
              "\n",
              "  <div id=\"df-2934fd32-9d29-45e0-ad33-1f2020326acb\">\n",
              "    <div class=\"colab-df-container\">\n",
              "      <div>\n",
              "<style scoped>\n",
              "    .dataframe tbody tr th:only-of-type {\n",
              "        vertical-align: middle;\n",
              "    }\n",
              "\n",
              "    .dataframe tbody tr th {\n",
              "        vertical-align: top;\n",
              "    }\n",
              "\n",
              "    .dataframe thead th {\n",
              "        text-align: right;\n",
              "    }\n",
              "</style>\n",
              "<table border=\"1\" class=\"dataframe\">\n",
              "  <thead>\n",
              "    <tr style=\"text-align: right;\">\n",
              "      <th></th>\n",
              "      <th>power</th>\n",
              "      <th>rotational_speed</th>\n",
              "    </tr>\n",
              "  </thead>\n",
              "  <tbody>\n",
              "    <tr>\n",
              "      <th>0</th>\n",
              "      <td>87.0</td>\n",
              "      <td>6000.0</td>\n",
              "    </tr>\n",
              "    <tr>\n",
              "      <th>1</th>\n",
              "      <td>74.0</td>\n",
              "      <td>4000.0</td>\n",
              "    </tr>\n",
              "    <tr>\n",
              "      <th>2</th>\n",
              "      <td>79.0</td>\n",
              "      <td>6000.0</td>\n",
              "    </tr>\n",
              "    <tr>\n",
              "      <th>3</th>\n",
              "      <td>82.0</td>\n",
              "      <td>6000.0</td>\n",
              "    </tr>\n",
              "    <tr>\n",
              "      <th>4</th>\n",
              "      <td>148.0</td>\n",
              "      <td>3400.0</td>\n",
              "    </tr>\n",
              "  </tbody>\n",
              "</table>\n",
              "</div>\n",
              "      <button class=\"colab-df-convert\" onclick=\"convertToInteractive('df-2934fd32-9d29-45e0-ad33-1f2020326acb')\"\n",
              "              title=\"Convert this dataframe to an interactive table.\"\n",
              "              style=\"display:none;\">\n",
              "\n",
              "  <svg xmlns=\"http://www.w3.org/2000/svg\" height=\"24px\"viewBox=\"0 0 24 24\"\n",
              "       width=\"24px\">\n",
              "    <path d=\"M0 0h24v24H0V0z\" fill=\"none\"/>\n",
              "    <path d=\"M18.56 5.44l.94 2.06.94-2.06 2.06-.94-2.06-.94-.94-2.06-.94 2.06-2.06.94zm-11 1L8.5 8.5l.94-2.06 2.06-.94-2.06-.94L8.5 2.5l-.94 2.06-2.06.94zm10 10l.94 2.06.94-2.06 2.06-.94-2.06-.94-.94-2.06-.94 2.06-2.06.94z\"/><path d=\"M17.41 7.96l-1.37-1.37c-.4-.4-.92-.59-1.43-.59-.52 0-1.04.2-1.43.59L10.3 9.45l-7.72 7.72c-.78.78-.78 2.05 0 2.83L4 21.41c.39.39.9.59 1.41.59.51 0 1.02-.2 1.41-.59l7.78-7.78 2.81-2.81c.8-.78.8-2.07 0-2.86zM5.41 20L4 18.59l7.72-7.72 1.47 1.35L5.41 20z\"/>\n",
              "  </svg>\n",
              "      </button>\n",
              "\n",
              "\n",
              "\n",
              "    <div id=\"df-b42a3009-a015-4a15-863a-0bbb51e8619a\">\n",
              "      <button class=\"colab-df-quickchart\" onclick=\"quickchart('df-b42a3009-a015-4a15-863a-0bbb51e8619a')\"\n",
              "              title=\"Suggest charts.\"\n",
              "              style=\"display:none;\">\n",
              "\n",
              "<svg xmlns=\"http://www.w3.org/2000/svg\" height=\"24px\"viewBox=\"0 0 24 24\"\n",
              "     width=\"24px\">\n",
              "    <g>\n",
              "        <path d=\"M19 3H5c-1.1 0-2 .9-2 2v14c0 1.1.9 2 2 2h14c1.1 0 2-.9 2-2V5c0-1.1-.9-2-2-2zM9 17H7v-7h2v7zm4 0h-2V7h2v10zm4 0h-2v-4h2v4z\"/>\n",
              "    </g>\n",
              "</svg>\n",
              "      </button>\n",
              "    </div>\n",
              "\n",
              "<style>\n",
              "  .colab-df-quickchart {\n",
              "    background-color: #E8F0FE;\n",
              "    border: none;\n",
              "    border-radius: 50%;\n",
              "    cursor: pointer;\n",
              "    display: none;\n",
              "    fill: #1967D2;\n",
              "    height: 32px;\n",
              "    padding: 0 0 0 0;\n",
              "    width: 32px;\n",
              "  }\n",
              "\n",
              "  .colab-df-quickchart:hover {\n",
              "    background-color: #E2EBFA;\n",
              "    box-shadow: 0px 1px 2px rgba(60, 64, 67, 0.3), 0px 1px 3px 1px rgba(60, 64, 67, 0.15);\n",
              "    fill: #174EA6;\n",
              "  }\n",
              "\n",
              "  [theme=dark] .colab-df-quickchart {\n",
              "    background-color: #3B4455;\n",
              "    fill: #D2E3FC;\n",
              "  }\n",
              "\n",
              "  [theme=dark] .colab-df-quickchart:hover {\n",
              "    background-color: #434B5C;\n",
              "    box-shadow: 0px 1px 3px 1px rgba(0, 0, 0, 0.15);\n",
              "    filter: drop-shadow(0px 1px 2px rgba(0, 0, 0, 0.3));\n",
              "    fill: #FFFFFF;\n",
              "  }\n",
              "</style>\n",
              "\n",
              "    <script>\n",
              "      async function quickchart(key) {\n",
              "        const containerElement = document.querySelector('#' + key);\n",
              "        const charts = await google.colab.kernel.invokeFunction(\n",
              "            'suggestCharts', [key], {});\n",
              "      }\n",
              "    </script>\n",
              "\n",
              "      <script>\n",
              "\n",
              "function displayQuickchartButton(domScope) {\n",
              "  let quickchartButtonEl =\n",
              "    domScope.querySelector('#df-b42a3009-a015-4a15-863a-0bbb51e8619a button.colab-df-quickchart');\n",
              "  quickchartButtonEl.style.display =\n",
              "    google.colab.kernel.accessAllowed ? 'block' : 'none';\n",
              "}\n",
              "\n",
              "        displayQuickchartButton(document);\n",
              "      </script>\n",
              "      <style>\n",
              "    .colab-df-container {\n",
              "      display:flex;\n",
              "      flex-wrap:wrap;\n",
              "      gap: 12px;\n",
              "    }\n",
              "\n",
              "    .colab-df-convert {\n",
              "      background-color: #E8F0FE;\n",
              "      border: none;\n",
              "      border-radius: 50%;\n",
              "      cursor: pointer;\n",
              "      display: none;\n",
              "      fill: #1967D2;\n",
              "      height: 32px;\n",
              "      padding: 0 0 0 0;\n",
              "      width: 32px;\n",
              "    }\n",
              "\n",
              "    .colab-df-convert:hover {\n",
              "      background-color: #E2EBFA;\n",
              "      box-shadow: 0px 1px 2px rgba(60, 64, 67, 0.3), 0px 1px 3px 1px rgba(60, 64, 67, 0.15);\n",
              "      fill: #174EA6;\n",
              "    }\n",
              "\n",
              "    [theme=dark] .colab-df-convert {\n",
              "      background-color: #3B4455;\n",
              "      fill: #D2E3FC;\n",
              "    }\n",
              "\n",
              "    [theme=dark] .colab-df-convert:hover {\n",
              "      background-color: #434B5C;\n",
              "      box-shadow: 0px 1px 3px 1px rgba(0, 0, 0, 0.15);\n",
              "      filter: drop-shadow(0px 1px 2px rgba(0, 0, 0, 0.3));\n",
              "      fill: #FFFFFF;\n",
              "    }\n",
              "  </style>\n",
              "\n",
              "      <script>\n",
              "        const buttonEl =\n",
              "          document.querySelector('#df-2934fd32-9d29-45e0-ad33-1f2020326acb button.colab-df-convert');\n",
              "        buttonEl.style.display =\n",
              "          google.colab.kernel.accessAllowed ? 'block' : 'none';\n",
              "\n",
              "        async function convertToInteractive(key) {\n",
              "          const element = document.querySelector('#df-2934fd32-9d29-45e0-ad33-1f2020326acb');\n",
              "          const dataTable =\n",
              "            await google.colab.kernel.invokeFunction('convertToInteractive',\n",
              "                                                     [key], {});\n",
              "          if (!dataTable) return;\n",
              "\n",
              "          const docLinkHtml = 'Like what you see? Visit the ' +\n",
              "            '<a target=\"_blank\" href=https://colab.research.google.com/notebooks/data_table.ipynb>data table notebook</a>'\n",
              "            + ' to learn more about interactive tables.';\n",
              "          element.innerHTML = '';\n",
              "          dataTable['output_type'] = 'display_data';\n",
              "          await google.colab.output.renderOutput(dataTable, element);\n",
              "          const docLink = document.createElement('div');\n",
              "          docLink.innerHTML = docLinkHtml;\n",
              "          element.appendChild(docLink);\n",
              "        }\n",
              "      </script>\n",
              "    </div>\n",
              "  </div>\n"
            ]
          },
          "metadata": {},
          "execution_count": 8
        }
      ]
    },
    {
      "cell_type": "code",
      "source": [
        "df.shape"
      ],
      "metadata": {
        "colab": {
          "base_uri": "https://localhost:8080/"
        },
        "id": "7PZn5YhKwzCU",
        "outputId": "bf46c8c7-e858-4e7a-d7da-8fa433de6d57"
      },
      "execution_count": null,
      "outputs": [
        {
          "output_type": "execute_result",
          "data": {
            "text/plain": [
              "(2059, 22)"
            ]
          },
          "metadata": {},
          "execution_count": 9
        }
      ]
    },
    {
      "cell_type": "code",
      "source": [
        "# Converting Engine column to numerical data\n",
        "df['Engine'] = pd.to_numeric(df['Engine'].str.replace(' cc', ''), errors='coerce').astype('float64')\n",
        "df['Engine'].head()"
      ],
      "metadata": {
        "colab": {
          "base_uri": "https://localhost:8080/"
        },
        "id": "4vEH710PgJtZ",
        "outputId": "586cdfe1-8f35-454f-c5e4-ff98af5ffcd8"
      },
      "execution_count": null,
      "outputs": [
        {
          "output_type": "execute_result",
          "data": {
            "text/plain": [
              "0    1198.0\n",
              "1    1248.0\n",
              "2    1197.0\n",
              "3    1197.0\n",
              "4    2393.0\n",
              "Name: Engine, dtype: float64"
            ]
          },
          "metadata": {},
          "execution_count": 10
        }
      ]
    },
    {
      "cell_type": "markdown",
      "source": [
        "Okay! We've converted all the non categorical non numerical columns with missing values to numerical data.\n",
        "\n",
        "Now, we'll drop all the rows with null values in the drivetrain column and fill all the null values in the other numerical columns with their mean values."
      ],
      "metadata": {
        "id": "PmQVRIbNhFyo"
      }
    },
    {
      "cell_type": "code",
      "source": [
        "df.shape"
      ],
      "metadata": {
        "colab": {
          "base_uri": "https://localhost:8080/"
        },
        "id": "nx0HJ2Dshf_1",
        "outputId": "5217f5f0-67dd-44e9-83f1-9d39e94f12a0"
      },
      "execution_count": null,
      "outputs": [
        {
          "output_type": "execute_result",
          "data": {
            "text/plain": [
              "(2059, 22)"
            ]
          },
          "metadata": {},
          "execution_count": 11
        }
      ]
    },
    {
      "cell_type": "code",
      "source": [
        "# # dropping rows with missing values\n",
        "df.dropna(subset=['Drivetrain', 'Engine', 'Fuel Tank Capacity', 'torque', 'rotational speed', 'power', 'rotational_speed'], inplace=True)\n",
        "print(df.shape)\n",
        "df.isnull().sum()"
      ],
      "metadata": {
        "colab": {
          "base_uri": "https://localhost:8080/"
        },
        "id": "0tllwZfkuADa",
        "outputId": "3f4c7578-e7f1-4f54-a87e-d9da17c522f6"
      },
      "execution_count": null,
      "outputs": [
        {
          "output_type": "stream",
          "name": "stdout",
          "text": [
            "(1802, 22)\n"
          ]
        },
        {
          "output_type": "execute_result",
          "data": {
            "text/plain": [
              "Make                  0\n",
              "Model                 0\n",
              "Price                 0\n",
              "Year                  0\n",
              "Kilometer             0\n",
              "Fuel Type             0\n",
              "Transmission          0\n",
              "Location              0\n",
              "Color                 0\n",
              "Owner                 0\n",
              "Seller Type           0\n",
              "Engine                0\n",
              "Drivetrain            0\n",
              "Length                0\n",
              "Width                 0\n",
              "Height                0\n",
              "Seating Capacity      0\n",
              "Fuel Tank Capacity    0\n",
              "torque                0\n",
              "rotational speed      0\n",
              "power                 0\n",
              "rotational_speed      0\n",
              "dtype: int64"
            ]
          },
          "metadata": {},
          "execution_count": 12
        }
      ]
    },
    {
      "cell_type": "markdown",
      "source": [
        "Yay! That was successful"
      ],
      "metadata": {
        "id": "Mxiq27cFmaTS"
      }
    },
    {
      "cell_type": "markdown",
      "source": [
        "## Exploratory Data Analysis (EDA)\n",
        "\n",
        "Here, we're going to understand how each of the features affects the price of the used cars to optimize our selection for training"
      ],
      "metadata": {
        "id": "jnK_822a2p7I"
      }
    },
    {
      "cell_type": "code",
      "source": [
        "# Summary Statistics\n",
        "print(\"Summary Statistics:\")\n",
        "print(df.describe())"
      ],
      "metadata": {
        "colab": {
          "base_uri": "https://localhost:8080/"
        },
        "id": "DKbdSgGa8Oah",
        "outputId": "61dae796-5991-4ef8-8735-8619f803d5f3"
      },
      "execution_count": null,
      "outputs": [
        {
          "output_type": "stream",
          "name": "stdout",
          "text": [
            "Summary Statistics:\n",
            "              Price         Year     Kilometer       Engine       Length  \\\n",
            "count  1.802000e+03  1802.000000  1.802000e+03  1802.000000  1802.000000   \n",
            "mean   1.759515e+06  2016.969478  5.200916e+04  1678.322420  4283.273585   \n",
            "std    2.457563e+06     2.871225  5.930951e+04   630.262203   434.197783   \n",
            "min    1.410000e+05  1988.000000  0.000000e+00   793.000000  3395.000000   \n",
            "25%    5.250000e+05  2015.000000  2.800000e+04  1197.000000  3985.000000   \n",
            "50%    8.625000e+05  2017.000000  4.800000e+04  1498.000000  4357.000000   \n",
            "75%    1.950000e+06  2019.000000  6.950000e+04  1995.000000  4620.000000   \n",
            "max    3.500000e+07  2022.000000  2.000000e+06  6592.000000  5569.000000   \n",
            "\n",
            "             Width       Height  Seating Capacity  Fuel Tank Capacity  \\\n",
            "count  1802.000000  1802.000000       1802.000000         1802.000000   \n",
            "mean   1769.886792  1589.879023          5.301332           52.203274   \n",
            "std     131.575637   134.221211          0.809911           15.034851   \n",
            "min    1475.000000  1213.000000          2.000000           27.000000   \n",
            "25%    1695.000000  1485.000000          5.000000           42.000000   \n",
            "50%    1775.000000  1544.000000          5.000000           50.000000   \n",
            "75%    1831.000000  1671.000000          5.000000           60.000000   \n",
            "max    2220.000000  1995.000000          8.000000          105.000000   \n",
            "\n",
            "            torque  rotational speed        power  rotational_speed  \n",
            "count  1802.000000       1802.000000  1802.000000       1802.000000  \n",
            "mean    245.264799       2617.857936   129.146892       4823.091010  \n",
            "std     138.524154       1207.089159    63.916349       1098.272917  \n",
            "min      54.000000        150.000000    39.000000       2910.000000  \n",
            "25%     115.000000       1600.000000    83.000000       4000.000000  \n",
            "50%     200.000000       1800.000000   116.000000       4200.000000  \n",
            "75%     350.000000       4000.000000   170.000000       6000.000000  \n",
            "max     780.000000       5600.000000   660.000000       8250.000000  \n"
          ]
        }
      ]
    },
    {
      "cell_type": "code",
      "source": [
        "# Setting up the figure and axis for subplot\n",
        "fig, axes = plt.subplots(nrows=2, ncols=2, figsize=(12, 10))\n",
        "plt.subplots_adjust(hspace=0.5)\n",
        "\n",
        "# Plot 1: Price vs. Kilometer\n",
        "sns.scatterplot(x='Kilometer', y='Price', data=df, ax=axes[0, 0])\n",
        "axes[0, 0].set_title('Price vs. Kilometer')\n",
        "\n",
        "# Plot 2: Price vs. Car Make\n",
        "sns.boxplot(x='Make', y='Price', data=df, ax=axes[0, 1])\n",
        "axes[0, 1].set_title('Price vs. Car Make')\n",
        "\n",
        "# Plot 3: Price vs. Fuel Type\n",
        "sns.boxplot(x='Fuel Type', y='Price', data=df, ax=axes[1, 0])\n",
        "axes[1, 0].set_title('Price vs. Fuel Type')\n",
        "\n",
        "# Plot 4: Price vs. Seating Capacity\n",
        "sns.barplot(x='Seating Capacity', y='Price', data=df, ax=axes[1, 1])\n",
        "axes[1, 1].set_title('Price vs. Seating Capacity')\n",
        "\n",
        "# Display the plots\n",
        "plt.show()"
      ],
      "metadata": {
        "colab": {
          "base_uri": "https://localhost:8080/",
          "height": 872
        },
        "id": "MVVofuppTcp8",
        "outputId": "c314c384-e1c0-488c-ec75-ea20db749b7b"
      },
      "execution_count": null,
      "outputs": [
        {
          "output_type": "display_data",
          "data": {
            "text/plain": [
              "<Figure size 1200x1000 with 4 Axes>"
            ],
            "image/png": "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