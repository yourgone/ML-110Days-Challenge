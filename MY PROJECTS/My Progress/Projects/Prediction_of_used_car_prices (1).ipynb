{
  "nbformat": 4,
  "nbformat_minor": 0,
  "metadata": {
    "colab": {
      "provenance": []
    },
    "kernelspec": {
      "name": "python3",
      "display_name": "Python 3"
    },
    "language_info": {
      "name": "python"
    }
  },
  "cells": [
    {
      "cell_type": "markdown",
      "source": [
        "# PREDICTING THE PRICE OF USED CARS\n",
        "## Day 17 of 110 Days of Machine Learning Challenge\n",
        "\n",
        "### Project by Anjolaoluwa (Data Princess)\n",
        "\n",
        "![Used cars animation](https://us.123rf.com/450wm/artinspiring/artinspiring1705/artinspiring170500572/78615533-used-cars-store.jpg)\n",
        "\n"
      ],
      "metadata": {
        "id": "hlaqnUVG79Cz"
      }
    },
    {
      "cell_type": "markdown",
      "source": [
        "## Scenario:\n",
        "\n",
        "Just as most businesses operate, Mr. Walter deals with buying and selling of used cars and has employed you to help optimize his business by predicting the resale price of the cars he acquires. As the automotive market is highly dynamic and influenced by various factors, having accurate price predictions will enable Mr. Walter to make well-informed decisions, maximize pro