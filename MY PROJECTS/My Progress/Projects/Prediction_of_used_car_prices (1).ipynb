{
  "nbformat": 4,
  "nbformat_minor": 0,
  "metadata": {
    "colab": {
      "provenance": []
    },
    "kernelspec": {
      "name": "python3",
      "display_name": "Python 3"
    },
    "language_info": {
      "name": "python"
    }
  },
  "cells": [
    {
      "cell_type": "markdown",
      "source": [
        "# PREDICTING THE PRICE OF USED CARS\n",
        "## Day 17 of 110 Days of Machine Learning Challenge\n",
        "\n",
        "### Project by Anjolaoluwa (Data Princess)\n",
        "\n",
        "![Used cars animation](https://us.123rf.com/450wm/artinspiring/artinspiring1705/artinspiring170500572/78615533-used-cars-store.jpg)\n",
        "\n"
      ],
      "metadata": {
        "id": "hlaqnUVG79Cz"
      }
    },
    {
      "cell_type": "markdown",
      "source": [
        "## Scenario:\n",
        "\n",
        "Just as most businesses operate, Mr. Walter deals with buying and selling of used cars and has employed you to help optimize his business by predicting the resale price of the cars he acquires. As the automotive market is highly dynamic and influenced by various factors, having accurate price predictions will enable Mr. Walter to make well-informed decisions, maximize profits, and offer competitive prices to customers.\n",
        "\n",
        "## Project Idea:\n",
        "\n",
        "Using historical data on used cars, you're to build a predictive model for the selling price. The model will take into account car attributes such as make, model, year of manufacture, mileage, condition, and various technical specifications (as per your discretion/ approach)"
      ],
      "metadata": {
        "id": "JMeyuOZo8GdD"
      }
    },
    {
      "cell_type": "markdown",
      "source": [
        "# USED CAR RESALE PRICE PREDICTION"
      ],
      "metadata": {
        "id": "QQg3h9fxF8jX"
      }
    },
    {
      "cell_type": "markdown",
      "source": [
        "Hello! And welcome to my notebook.\n",
        "\n",
        "I'm Anjolaoluwa Ajayi (AKA Data Princess). Today, we'll be working on an interesting project about predicting the resale price of a used car.\n",
        "\n",
        "## Approach:\n",
        "\n",
        "- Data Collection\n",
        "- Data Preprocessing\n",
        "- Exploratory Data Analysis (EDA)\n",
        "- Feature Engineering\n",
        "- Model Selection\n",
        "- Model Evaluation"
      ],
      "metadata": {
        "id": "ndPMUWs7GFRQ"
      }
    },
    {
      "cell_type": "code",
      "source": [
        "# For data wrangling\n",
        "import numpy as np\n",
        "import pandas as pd\n",
        "\n",
        "# For preprocessing\n",
        "from sklearn.preprocessing import LabelEncoder, OneHotEncoder\n",
        "\n",
        "# For selection\n",
        "from sklearn.model_selection import train_test_split\n",
        "\n",
        "# For visualization\n",
        "import matplotlib.pyplot as plt\n",
        "import seaborn as sns\n",
        "import plotly.express as px\n",
        "import plotly.graph_objects as go\n",
        "from plotly.subplots import make_subplots\n",
        "\n",
        "# For training & testing\n",
        "from sklearn.tree import DecisionTreeRegressor\n",
        "from sklearn.ensemble import RandomForestRegressor\n",
        "\n",
        "# For evaluation\n",
        "from sklearn.metrics import mean_absolute_error, mean_squared_error, r2_score"
      ],
      "metadata": {
        "id": "x2rdfUgkF7Qc"
      },
      "execution_count": null,
      "outputs": []
    },
    {
      "cell_type": "code",
      "source": [
        "# Loading the data into the notebook\n",
        "df = pd.read_csv('/content/car details v4.csv')\n",
        "df.shape"
      ],
      "metadata": {
        "colab": {
          "base_uri": "https://localhost:8080/"
        },
        "id": "4sh1kr9pJnyf",
        "outputId": "504ab501-e590-4db7-c66c-d9172eb4ae4b"
      },
      "execution_count": null,
      "outputs": [
        {
          "output_type": "execute_result",
          "data": {
            "text/plain": [
              "(2059, 20)"
            ]
          },
          "metadata": {},
          "execution_count": 2
        }
      ]
    },
    {
      "cell_type": "markdown",
      "source": [
        "Our dataset has 2059 rows and 20 columns"
      ],
      "metadata": {
        "id": "lCDcRcqNUdXT"
      }
    },
    {
      "cell_type": "markdown",
      "source": [
        "#Data Preprocessing"
      ],
      "metadata": {
        "id": "HOLuwVRAUDfa"
      }
    },
    {
      "cell_type": "markdown",
      "source": [
        "First, we'll check for missing values\n",
        "\n"
      ],
      "metadata": {
        "id": "Vby6wlsGUHYE"
      }
    },
    {
      "cell_type": "code",
      "source": [
        "df.isnull().sum()"
      ],
      "metadata": {
        "colab": {
          "base_uri": "https://localhost:8080/"
        },
        "id": "p7tBO-SgT7tJ",
        "outputId": "7e5864e1-6ed3-4b7f-9e56-caafcc65ae5c"
      },
      "execution_count": null,
      "outputs": [
        {
          "output_type": "execute_result",
          "data": {
            "text/plain": [
              "Make                    0\n",
              "Model                   0\n",
              "Price                   0\n",
              "Year                    0\n",
              "Kilometer               0\n",
              "Fuel Type               0\n",
              "Transmission            0\n",
              "Location                0\n",
              "Color                   0\n",
              "Owner                   0\n",
              "Seller Type             0\n",
              "Engine                 80\n",
              "Max Power              80\n",
              "Max Torque             80\n",
              "Drivetrain            136\n",
              "Length                 64\n",
              "Width                  64\n",
              "Height                 64\n",
              "Seating Capacity       64\n",
              "Fuel Tank Capacity    113\n",
              "dtype: int64"
            ]
          },
          "metadata": {},
          "execution_count": 3
        }
      ]
    },
    {
      "cell_type": "markdown",
      "source": [
        "Wow, we've got some cleaning to do!\n",
        "\n",
        "Let's understand the data further to clean it in the best way possible."
      ],
      "metadata": {
        "id": "jtV_CUHjUphV"
      }
    },
    {
      "cell_type": "code",
      "source": [
        "df.info()"
      ],
      "metadata": {
        "colab": {
          "base_uri": "https://localhost:8080/"
        },
        "id": "7l6JMknKU1y2",
        "outputId": "47412381-f64d-424d-a99d-e354d0aaa7fc"
      },
      "execution_count": null,
      "outputs": [
        {
          "output_type": "stream",
          "name": "stdout",
          "text": [
            "<class 'pandas.core.frame.DataFrame'>\n",
            "RangeIndex: 2059 entries, 0 to 2058