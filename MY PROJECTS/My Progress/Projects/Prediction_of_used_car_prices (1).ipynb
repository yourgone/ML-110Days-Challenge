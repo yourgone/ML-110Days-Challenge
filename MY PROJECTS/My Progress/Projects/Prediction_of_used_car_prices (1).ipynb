{
  "nbformat": 4,
  "nbformat_minor": 0,
  "metadata": {
    "colab": {
      "provenance": []
    },
    "kernelspec": {
      "name": "python3",
      "display_name": "Python 3"
    },
    "language_info": {
      "name": "python"
    }
  },
  "cells": [
    {
      "cell_type": "markdown",
      "source": [
        "# PREDICTING THE PRICE OF USED CARS\n",
        "## Day 17 of 110 Days of Machine Learning Challenge\n",
        "\n",
        "### Project by Anjolaoluwa (Data Princess)\n",
        "\n",
        "![Used cars animation](https://us.123rf.com/450wm/artinspiring/artinspiring1705/artinspiring170500572/78615533-used-cars-store.jpg)\n",
        "\n"
      ],
      "metadata": {
        "id": "hlaqnUVG79Cz"
      }
    },
    {
      "cell_type": "markdown",
      "source": [
        "## Scenario:\n",
        "\n",
        "Just as most businesses operate, Mr. Walter deals with buying and selling of used cars and has employed you to help optimize his business by predicting the resale price of the cars he acquires. As the automotive market is highly dynamic and influenced by various factors, having accurate price predictions will enable Mr. Walter to make well-informed decisions, maximize profits, and offer competitive prices to customers.\n",
        "\n",
        "## Project Idea:\n",
        "\n",
        "Using historical data on used cars, you're to build a predictive model for the selling price. The model will take into account car attributes such as make, model, year of manufacture, mileage, condition, and various technical specifications (as per your discretion/ approach)"
      ],
      "metadata": {
        "id": "JMeyuOZo8GdD"
      }
    },
    {
      "cell_type": "markdown",
      "source": [
        "# USED CAR RESALE PRICE PREDICTION"
      ],
      "metadata": {
        "id": "QQg3h9fxF8jX"
      }
    },
    {
      "cell_type": "markdown",
      "source": [
        "Hello! And welcome to my notebook.\n",
        "\n",
        "I'm Anjolaoluwa Ajayi (AKA Data Princess). Today, we'll be working on an interesting project about predicting the resale price of a used car.\n",
        "\n",
        "## Approach:\n",
        "\n",
        "- Data Collection\n",
        "- Data Preprocessing\n",
        "- Exploratory Data Analysis (EDA)\n",
        "- Feature Engineering\n",
        "- Model Selection\n",
        "- Model Evaluation"
      ],
      "metadata": {
        "id": "ndPMUWs7GFRQ"
      }
    },
    {
      "cell_type": "code",
      "source": [
        "# For data wrangling\n",
        "import numpy as np\n",
        "import pandas as pd\n",
        "\n",
        "# For preprocessing\n",
        "from sklearn.preprocessing import LabelEncoder, OneHotEncoder\n",
        "\n",
        "# For selection\n",
        "from sklearn.model_selection import train_test_split\n",
        "\n",
        "# For visualization\n",
        "import matplotlib.pyplot as plt\n",
        "import seaborn as sns\n",
        "import plotly.express as px\n",
        "import plotly.graph_objects as go\n",
        "from plotly.subplots import make_subplots\n",
        "\n",
        "# For training & testing\n",
        "from sklearn.tree import DecisionTreeRegressor\n",
        "from sklearn.ensemble import RandomForestRegressor\n",
        "\n",
        "# For evaluation\n",
        "from sklearn.metrics import mean_absolute_error, mean_squared_error, r2_score"
      ],
      "metadata": {
        "id": "x2rdfUgkF7Qc"
      },
      "execution_count": null,
      "outputs": []
    },
    {
      "cell_type": "code",
      "source": [
        "# Loading the data into the notebook\n",
        "df = pd.read_csv('/content/car details v4.csv')\n",
        "df.shape"
      ],
      "metadata": {
        "colab": {
          "base_uri": "https://localhost:8080/"
        },
        "id": "4sh1kr9pJnyf",
        "outputId": "504ab501-e590-4db7-c66c-d9172eb4ae4b"
      },
      "execution_count": null,
      "outputs": [
        {
          "output_type": "execute_result",
          "data": {
            "text/plain": [
              "(2059, 20)"
            ]
          },
          "metadata": {},
          "execution_count": 2
        }
      ]
    },
    {
      "cell_type": "markdown",
      "source": [
        "Our dataset has 2059 rows and 20 columns"
      ],
      "metadata": {
        "id": "lCDcRcqNUdXT"
      }
    },
    {
      "cell_type": "markdown",
      "source": [
        "#Data Preprocessing"
      ],
      "metadata": {
        "id": "HOLuwVRAUDfa"
      }
    },
    {
      "cell_type": "markdown",
      "source": [
        "First, we'll check for missing values\n",
        "\n"
      ],
      "metadata": {
        "id": "Vby6wlsGUHYE"
      }
    },
    {
      "cell_type": "code",
      "source": [
        "df.isnull().sum()"
      ],
      "metadata": {
        "colab": {
          "base_uri": "https://localhost:8080/"
        },
        "id": "p7tBO-SgT7tJ",
        "outputId": "7e5864e1-6ed3-4b7f-9e56-caafcc65ae5c"
      },
      "execution_count": null,
      "outputs": [
        {
          "output_type": "execute_result",
          "data": {
            "text/plain": [
              "Make                    0\n",
              "Model                   0\n",
              "Price                   0\n",
              "Year                    0\n",
              "Kilometer               0\n",
              "Fuel Type               0\n",
              "Transmission            0\n",
              "Location                0\n",
              "Color                   0\n",
              "Owner                   0\n",
              "Seller Type             0\n",
              "Engine                 80\n",
              "Max Power              80\n",
              "Max Torque             80\n",
              "Drivetrain            136\n",
              "Length                 64\n",
              "Width                  64\n",
              "Height                 64\n",
              "Seating Capacity       64\n",
              "Fuel Tank Capacity    113\n",
              "dtype: int64"
            ]
          },
          "metadata": {},
          "execution_count": 3
        }
      ]
    },
    {
      "cell_type": "markdown",
      "source": [
        "Wow, we've got some cleaning to do!\n",
        "\n",
        "Let's understand the data further to clean it in the best way possible."
      ],
      "metadata": {
        "id": "jtV_CUHjUphV"
      }
    },
    {
      "cell_type": "code",
      "source": [
        "df.info()"
      ],
      "metadata": {
        "colab": {
          "base_uri": "https://localhost:8080/"
        },
        "id": "7l6JMknKU1y2",
        "outputId": "47412381-f64d-424d-a99d-e354d0aaa7fc"
      },
      "execution_count": null,
      "outputs": [
        {
          "output_type": "stream",
          "name": "stdout",
          "text": [
            "<class 'pandas.core.frame.DataFrame'>\n",
            "RangeIndex: 2059 entries, 0 to 2058\n",
            "Data columns (total 20 columns):\n",
            " #   Column              Non-Null Count  Dtype  \n",
            "---  ------              --------------  -----  \n",
            " 0   Make                2059 non-null   object \n",
            " 1   Model               2059 non-null   object \n",
            " 2   Price               2059 non-null   int64  \n",
            " 3   Year                2059 non-null   int64  \n",
            " 4   Kilometer           2059 non-null   int64  \n",
            " 5   Fuel Type           2059 non-null   object \n",
            " 6   Transmission        2059 non-null   object \n",
            " 7   Location            2059 non-null   object \n",
            " 8   Color               2059 non-null   object \n",
            " 9   Owner               2059 non-null   object \n",
            " 10  Seller Type         2059 non-null   object \n",
            " 11  Engine              1979 non-null   object \n",
            " 12  Max Power           1979 non-null   object \n",
            " 13  Max Torque          1979 non-null   object \n",
            " 14  Drivetrain          1923 non-null   object \n",
            " 15  Length              1995 non-null   float64\n",
            " 16  Width               1995 non-null   float64\n",
            " 17  Height              1995 non-null   float64\n",
            " 18  Seating Capacity    1995 non-null   float64\n",
            " 19  Fuel Tank Capacity  1946 non-null   float64\n",
            "dtypes: float64(5), int64(3), object(12)\n",
            "memory usage: 321.8+ KB\n"
          ]
        }
      ]
    },
    {
      "cell_type": "markdown",
      "source": [
        "It appears we have 4 non-numerical columns and 5 numerical columns that contain null values.\n",
        "\n",
        "Let's explore further to see if these non-numerical columns are categorical/ ordinal or not"
      ],
      "metadata": {
        "id": "yXo3WJkpU-Ke"
      }
    },
    {
      "cell_type": "code",
      "source": [
        "df.nunique()"
      ],
      "metadata": {
        "colab": {
          "base_uri": "https://localhost:8080/"
        },
        "id": "1-FL0Id-VORh",
        "outputId": "60a5d470-daf7-4638-94f4-7e881e8bf913"
      },
      "execution_count": null,
      "outputs": [
        {
          "output_type": "execute_result",
          "data": {
            "text/plain": [
              "Make                    33\n",
              "Model                 1050\n",
              "Price                  619\n",
              "Year                    22\n",
              "Kilometer              847\n",
              "Fuel Type                9\n",
              "Transmission             2\n",
              "Location                77\n",
              "Color                   17\n",
              "Owner                    6\n",
              "Seller Type              3\n",
              "Engine                 108\n",
              "Max Power              335\n",
              "Max Torque             290\n",
              "Drivetrain               3\n",
              "Length                 248\n",
              "Width                  170\n",
              "Height                 196\n",
              "Seating Capacity         6\n",
              "Fuel Tank Capacity      55\n",
              "dtype: int64"
            ]
          },
          "metadata": {},
          "execution_count": 5
        }
      ]
    },
    {
      "cell_type": "code",
      "source": [
        "df.iloc[: , 11:].head()"
      ],
      "metadata": {
        "colab": {
          "base_uri": "https://localhost:8080/",
          "height": 206
        },
        "id": "5Ryi-6dyZeVK",
        "outputId": "cede7894-b00d-449e-999b-ff2a1a31d385"
      },
      "execution_count": null,
      "outputs": [
        {
          "output_type": "execute_result",
          "data": {
            "text/plain": [
              "    Engine           Max Power              Max Torque Drivetrain  Length  \\\n",
              "0  1198 cc   87 bhp @ 6000 rpm       109 Nm @ 4500 rpm        FWD  3990.0   \n",
              "1  1248 cc   74 bhp @ 4000 rpm       190 Nm @ 2000 rpm        FWD  3995.0   \n",
              "2  1197 cc   79 bhp @ 6000 rpm  112.7619 Nm @ 4000 rpm        FWD  3585.0   \n",
              "3  1197 cc   82 bhp @ 6000 rpm       113 Nm @ 4200 rpm        FWD  3995.0   \n",
              "4  2393 cc  148 bhp @ 3400 rpm       343 Nm @ 1400 rpm        RWD  4735.0   \n",
              "\n",
              "    Width  Height  Seating Capacity  Fuel Tank Capacity  \n",
              "0  1680.0  1505.0               5.0                35.0  \n",
              "1  1695.0  1555.0               5.0                42.0  \n",
              "2  1595.0  1550.0               5.0                35.0  \n",
              "3  1745.0  1510.0               5.0                37.0  \n",
              "4  1830.0  1795.0               7.0                55.0  "
            ],
            "text/html": [
              "\n",
              "\n",
              "  <div id=\"df-7cfcd8c4-e17f-4d32-9200-c77d18ba8c11\">\n",
              "    <div class=\"colab-df-container\">\n",
              "      <div>\n",
              "<style scoped>\n",
              "    .dataframe tbody tr th:only-of-type {\n",
              "        vertical-align: middle;\n",
              "    }\n",
              "\n",
              "    .dataframe tbody tr th {\n",
              "        vertical-align: top;\n",
              "    }\n",
              "\n",
              "    .dataframe thead th {\n",
              "        text-align: right;\n",
              "    }\n",
              "</style>\n",
              "<table border=\"1\" class=\"dataframe\">\n",
              "  <thead>\n",
              "    <tr style=\"text-align: right;\">\n",
              "      <th></th>\n",
              "      <th>Engine</th>\n",
              "      <th>Max Power</th>\n",
              "      <th>Max Torque</th>\n",
              "      <th>Drivetrain</th>\n",
              "      <th>Length</th>\n",
              "      <th>Width</th>\n",
              "      <th>Height</th>\n",
              "      <th>Seating Capacity</th>\n",
              "      <th>Fuel Tank Capacity</th>\n",
              "    </tr>\n",
              "  </thead>\n",
              "  <tbody>\n",
              "    <tr>\n",
              "      <th>0</th>\n",
              "      <td>1198 cc</td>\n",
              "      <td>87 bhp @ 6000 rpm</td>\n",
              "      <td>109 Nm @ 4500 rpm</td>\n",
              "      <td>FWD</td>\n",
              "      <td>3990.0</td>\n",
              "      <td>1680.0</td>\n",
              "      <td>1505.0</td>\n",
              "      <td>5.0</td>\n",
              "      <td>35.0</td>\n",
              "    </tr>\n",
              "    <tr>\n",
              "      <th>1</th>\n",
              "      <td>1248 cc</td>\n",
              "      <td>74 bhp @ 4000 rpm</td>\n",
              "      <td>190 Nm @ 2000 rpm</td>\n",
              "      <td>FWD</td>\n",
              "      <td>3995.0</td>\n",
              "      <td>1695.0</td>\n",
              "      <td>1555.0</td>\n",
              "      <td>5.0</td>\n",
              "      <td>42.0</td>\n",
              "    </tr>\n",
              "    <tr>\n",
              "      <th>2</th>\n",
              "      <td>1197 cc</td>\n",
              "      <td>79 bhp @ 6000 rpm</td>\n",
              "      <td>112.7619 Nm @ 4000 rpm</td>\n",
              "      <td>FWD</td>\n",
              "      <td>3585.0</td>\n",
              "      <td>1595.0</td>\n",
              "      <td>1550.0</td>\n",
              "      <td>5.0</td>\n",
              "      <td>35.0</td>\n",
              "    </tr>\n",
              "    <tr>\n",
              "      <th>3</th>\n",
              "      <td>1197 cc</td>\n",
              "      <td>82 bhp @ 6000 rpm</td>\n",
              "      <td>113 Nm @ 4200 rpm</td>\n",
              "      <td>FWD</td>\n",
              "      <td>3995.0</td>\n",
              "      <td>1745.0</td>\n",
              "      <td>1510.0</td>\n",
              "      <td>5.0</td>\n",
              "      <td>37.0</td>\n",
              "    </tr>\n",
              "    <tr>\n",
              "      <th>4</th>\n",
              "      <td>2393 cc</td>\n",
              "      <td>148 bhp @ 3400 rpm</td>\n",
              "      <td>343 Nm @ 1400 rpm</td>\n",
              "      <td>RWD</td>\n",
              "      <td>4735.0</td>\n",
              "      <td>1830.0</td>\n",
              "      <td>1795.0</td>\n",
              "      <td>7.0</td>\n",
              "      <td>55.0</td>\n",
              "    </tr>\n",
              "  </tbody>\n",
              "</table>\n",
              "</div>\n",
              "      <button class=\"colab-df-convert\" onclick=\"convertToInteractive('df-7cfcd8c4-e17f-4d32-9200-c77d18ba8c11')\"\n",
              "              title=\"Convert this dataframe to an interactive table.\"\n",
              "              style=\"display:none;\">\n",
              "\n",
              "  <svg xmlns=\"http://www.w3.org/2000/svg\" height=\"24px\"viewBox=\"0 0 24 24\"\n",
              "       width=\"24px\">\n",
              "    <path d=\"M0 0h24v24H0V0z\" fill=\"none\"/>\n",
              "    <path d=\"M18.56 5.44l.94 2.06.94-2.06 2.06-.94-2.06-.94-.94-2.06-.94 2.06-2.06.94zm-11 1L8.5 8.5l.94-2.06 2.06-.94-2.06-.94L8.5 2.5l-.94 2.06-2.06.94zm10 10l.94 2.06.94-2.06 2.06-.94-2.06-.94-.94-2.06-.94 2.06-2.06.94z\"/><path d=\"M17.41 7.96l-1.37-1.37c-.4-.4-.92-.59-1.43-.59-.52 0-1.04.2-1.43.59L10.3 9.45l-7.72 7.72c-.78.78-.78 2.05 0 2.83L4 21.41c.39.39.9.59 1.41.59.51 0 1.02-.2 1.41-.59l7.78-7.78 2.81-2.81c.8-.78.8-2.07 0-2.86zM5.41 20L4 18.59l7.72-7.72 1.47 1.35L5.41 20z\"/>\n",
              "  </svg>\n",
              "      </button>\n",
              "\n",
              "\n",
              "\n",
              "    <div id=\"df-c375e4b7-8991-4fe8-9979-6fe76343f00f\">\n",
              "      <button class=\"colab-df-quickchart\" onclick=\"quickchart('df-c375e4b7-8991-4fe8-9979-6fe76343f00f')\"\n",
              "              title=\"Suggest charts.\"\n",
              "              style=\"display:none;\">\n",
              "\n",
              "<svg xmlns=\"http://www.w3.org/2000/svg\" height=\"24px\"viewBox=\"0 0 24 24\"\n",
              "     width=\"24px\">\n",
              "    <g>\n",
              "        <path d=\"M19 3H5c-1.1 0-2 .9-2 2v14c0 1.1.9 2 2 2h14c1.1 0 2-.9 2-2V5c0-1.1-.9-2-2-2zM9 17H7v-7h2v7zm4 0h-2V7h2v10zm4 0h-2v-4h2v4z\"/>\n",
              "    </g>\n",
              "</svg>\n",
              "      </button>\n",
              "    </div>\n",
              "\n",
              "<style>\n",
              "  .colab-df-quickchart {\n",
              "    background-color: #E8F0FE;\n",
              "    border: none;\n",
              "    border-radius: 50%;\n",
              "    cursor: pointer;\n",
              "    display: none;\n",
              "    fill: #1967D2;\n",
              "    height: 32px;\n",
              "    padding: 0 0 0 0;\n",
              "    width: 32px;\n",
              "  }\n",
              "\n",
              "  .colab-df-quickchart:hover {\n",
              "    background-color: #E2EBFA;\n",
              "    box-shadow: 0px 1px 2px rgba(60, 64, 67, 0.3), 0px 1px 3px 1px rgba(60, 64, 67, 0.15);\n",
              "    fill: #174EA6;\n",
              "  }\n",
              "\n",
              "  [theme=dark] .colab-df-quickchart {\n",
              "    background-color: #3B4455;\n",
              "    fill: #D2E3FC;\n",
              "  }\n",
              "\n",
              "  [theme=dark] .colab-df-quickchart:hover {\n",
              "    background-color: #434B5C;\n",
              "    box-shadow: 0px 1px 3px 1px rgba(0, 0, 0, 0.15);\n",
              "    filter: drop-shadow(0px 1px 2px rgba(0, 0, 0, 0.3));\n",
              "    fill: #FFFFFF;\n",
              "  }\n",
              "</style>\n",
              "\n",
              "    <script>\n",
              "      async function quickchart(key) {\n",
              "        const containerElement = document.querySelector('#' + key);\n",
              "        const charts = await google.colab.kernel.invokeFunction(\n",
              "            'suggestCharts', [key], {});\n",
              "      }\n",
              "    </script>\n",
              "\n",
              "      <script>\n",
              "\n",
              "function displayQuickchartButton(domScope) {\n",
              "  let quickchartButtonEl =\n",
              "    domScope.querySelector('#df-c375e4b7-8991-4fe8-9979-6fe76343f00f button.colab-df-quickchart');\n",
              "  quickchartButtonEl.style.display =\n",
              "    google.colab.kernel.accessAllowed ? 'block' : 'none';\n",
              "}\n",
              "\n",
              "        displayQuickchartButton(document);\n",
              "      </script>\n",
              "      <style>\n",
              "    .colab-df-container {\n",
              "      display:flex;\n",
              "      flex-wrap:wrap;\n",
              "      gap: 12px;\n",
              "    }\n",
              "\n",
              "    .colab-df-convert {\n",
              "      background-color: #E8F0FE;\n",
              "      border: none;\n",
              "      border-radius: 50%;\n",
              "      cursor: pointer;\n",
              "      display: none;\n",
              "      fill: #1967D2;\n",
              "      height: 32px;\n",
              "      padding: 0 0 0 0;\n",
              "      width: 32px;\n",
              "    }\n",
              "\n",
              "    .colab-df-convert:hover {\n",
              "      background-color: #E2EBFA;\n",
              "      box-shadow: 0px 1px 2px rgba(60, 64, 67, 0.3), 0px 1px 3px 1px rgba(60, 64, 67, 0.15);\n",
              "      fill: #174EA6;\n",
              "    }\n",
              "\n",
              "    [theme=dark] .colab-df-convert {\n",
              "      background-color: #3B4455;\n",
              "      fill: #D2E3FC;\n",
              "    }\n",
              "\n",
              "    [theme=dark] .colab-df-convert:hover {\n",
              "      background-color: #434B5C;\n",
              "      box-shadow: 0px 1px 3px 1px rgba(0, 0, 0, 0.15);\n",
              "      filter: drop-shadow(0px 1px 2px rgba(0, 0, 0, 0.3));\n",
              "      fill: #FFFFFF;\n",
              "    }\n",
              "  </style>\n",
              "\n",
              "      <script>\n",
              "        const buttonEl =\n",
              "          document.querySelector('#df-7cfcd8c4-e17f-4d32-9200-c77d18ba8c11 button.colab-df-convert');\n",
              "        buttonEl.style.display =\n",
              "          google.colab.kernel.accessAllowed ? 'block' : 'none';\n",
              "\n",
              "        async function convertToInteractive(key) {\n",
              "          const element = document.querySelector('#df-7cfcd8c4-e17f-4d32-9200-c77d18ba8c11');\n",
              "          const dataTable =\n",
              "            await google.colab.kernel.invokeFunction('convertToInteractive',\n",
              "                                                     [key], {});\n",
              "          if (!dataTable) return;\n",
              "\n",
              "          const docLinkHtml = 'Like what you see? Visit the ' +\n",
              "            '<a target=\"_blank\" href=https://colab.research.google.com/notebooks/data_table.ipynb>data table notebook</a>'\n",
              "            + ' to learn more about interactive tables.';\n",
              "          element.innerHTML = '';\n",
              "          dataTable['output_type'] = 'display_data';\n",
              "          await google.colab.output.renderOutput(dataTable, element);\n",
              "          const docLink = document.createElement('div');\n",
              "          docLink.innerHTML = docLinkHtml;\n",
              "          element.appendChild(docLink);\n",
              "        }\n",
              "      </script>\n",
              "    </div>\n",
              "  </div>\n"
            ]
          },
          "metadata": {},
          "execution_count": 6
        }
      ]
    },
    {
      "cell_type": "markdown",
      "source": [
        "It seems like drivetrain is the only categorical data among the four non numerical columns with missing values.\n",
        "\n",
        "Engine, max power, and max torque columns can however be converted to numerical columns.\n",
        "\n",
        "So let's convert them, shall we?"
      ],
      "metadata": {
        "id": "s-HOs3P7VUBc"
      }
    },
    {
      "cell_type": "code",
      "source": [
        "# Creating new columns 'torque' and 'rotational speed' by extracting numerical values\n",
        "extracted_values = df['Max Torque'].str.extract(r'(\\d+\\.?\\d*) Nm @ (\\d+\\.?\\d*) rpm')\n",
        "\n",
        "# Converting the extracted values to numeric types (float for torque, float for rotational speed)\n",
        "df['torque'] = pd.to_numeric(extracted_values[0], errors='coerce')\n",
        "df['rotational speed'] = pd.to_numeric(extracted_values[1], errors='coerce').astype('float64')\n",
        "# Use 'Int64' to handle missing integer values\n",
        "\n",
        "# Dropping the Max Torque column\n",
        "df.drop('Max Torque', axis=1, inplace=True)\n",
        "\n",
        "df[['torque', 'rotational speed']].head()"
      ],
      "metadata": {
        "colab": {
          "base_uri": "https://localhost:8080/",
          "height": 206
        },
        "id": "1SwIOzqBcLiu",
        "outputId": "dddd138f-3006-40c6-92a0-512435639712"
      },
      "execution_count": null,
      "outputs": [
        {
          "output_type": "execute_result",
          "data": {
            "text/plain": [
              "     torque  rotational speed\n",
              "0  109.0000            4500.0\n",
              "1  190.0000            2000.0\n",
              "2  112.7619            4000.0\n",
              "3  113.0000            4200.0\n",
              "4  343.0000            1400.0"
            ],
            "text/html": [
              "\n",
              "\n",
              "  <div id=\"df-8b397aef-7e7d-4cdb-8606-714477f0db7c\">\n",
              "    <div class=\"colab-df-container\">\n",
              "      <div>\n",
              "<style scoped>\n",
              "    .dataframe tbody tr th:only-of-type {\n",
              "        vertical-align: middle;\n",
              "    }\n",
              "\n",
              "    .dataframe tbody tr th {\n",
              "        vertical-align: top;\n",
              "    }\n",
              "\n",
              "    .dataframe thead th {\n",
              "        text-align: right;\n",
              "    }\n",
              "</style>\n",
              "<table border=\"1\" class=\"dataframe\">\n",
              "  <thead>\n",
              "    <tr style=\"text-align: right;\">\n",
              "      <th></th>\n",
              "      <th>torque</th>\n",
              "      <th>rotational speed</th>\n",
              "    </tr>\n",
              "  </thead>\n",
              "  <tbody>\n",
              "    <tr>\n",
              "      <th>0</th>\n",
              "      <td>109.0000</td>\n",
              "      <td>4500.0</td>\n",
              "    </tr>\n",
              "    <tr>\n",
              "      <th>1</th>\n",
              "      <td>190.0000</td>\n",
              "      <td>2000.0</td>\n",
              "    </tr>\n",
              "    <tr>\n",
              "      <th>2</th>\n",
              "      <td>112.7619</td>\n",
              "      <td>4000.0</td>\n",
              "    </tr>\n",
              "    <tr>\n",
              "      <th>3</th>\n",
              "      <td>113.0000</td>\n",
              "      <td>4200.0</td>\n",
              "    </tr>\n",
              "    <tr>\n",
              "      <th>4</th>\n",
              "      <td>343.0000</td>\n",
              "      <td>1400.0</td>\n",
              "    </tr>\n",
              "  </tbody>\n",
              "</table>\n",
              "</div>\n",
              "      <button class=\"colab-df-convert\" onclick=\"convertToInteractive('df-8b397aef-7e7d-4cdb-8606-714477f0db7c')\"\n",
              "              title=\"Convert this dataframe to an interactive table.\"\n",
              "              style=\"display:none;\">\n",
              "\n",
              "  <svg xmlns=\"http://www.w3.org/2000/svg\" height=\"24px\"viewBox=\"0 0 24 24\"\n",
              "       width=\"24px\">\n",
              "    <path d=\"M0 0h24v24H0V0z\" fill=\"none\"/>\n",
              "    <path d=\"M18.56 5.44l.94 2.06.94-2.06 2.06-.94-2.06-.94-.94-2.06-.94 2.06-2.06.94zm-11 1L8.5 8.5l.94-2.06 2.06-.94-2.06-.94L8.5 2.5l-.94 2.06-2.06.94zm10 10l.94 2.06.94-2.06 2.06-.94-2.06-.94-.94-2.06-.94 2.06-2.06.94z\"/><path d=\"M17.41 7.96l-1.37-1.37c-.4-.4-.92-.59-1.43-.59-.52 0-1.04.2-1.43.59L10.3 9.45l-7.72 7.72c-.78.78-.78 2.05 0 2.83L4 21.41c.39.39.9.59 1.41.59.51 0 1.02-.2 1.41-.59l7.78-7.78 2.81-2.81c.8-.78.8-2.07 0-2.86zM5.41 20L4 18.59l7.72-7.72 1.47 1.35L5.41 20z\"/>\n",
              "  </svg>\n",
              "      </button>\n",
              "\n",
              "\n",
              "\n",
              "    <div id=\"df-1b577dc4-226b-4284-9668-5bd06935c2c4\">\n",
              "      <button class=\"colab-df-quickchart\" onclick=\"quickchart('df-1b577dc4-226b-4284-9668-5bd06935c2c4')\"\n",
              "              title=\"Suggest charts.\"\n",
              "              style=\"display:none;\">\n",
              "\n",
              "<svg xmlns=\"http://www.w3.org/2000/svg\" height=\"24px\"viewBox=\"0 0 24 24\"\n",
              "     width=\"24px\">\n",
              "    <g>\n",
              "        <path d=\"M19 3H5c-1.1 0-2 .9-2 2v14c0 1.1.9 2 2 2h14c1.1 0 2-.9 2-2V5c0-1.1-.9-2-2-2zM9 17H7v-7h2v7zm4 0h-2V7h2v10zm4 0h-2v-4h2v4z\"/>\n",
              "    </g>\n",
              "</svg>\n",
              "      </button>\n",
              "    </div>\n",
              "\n",
              "<style>\n",
              "  .colab-df-quickchart {\n",
              "    background-color: #E8F0FE;\n",
              "    border: none;\n",
              "    border-radius: 50%;\n",
              "    cursor: pointer;\n",
              "    display: none;\n",
              "    fill: #1967D2;\n",
              "    height: 32px;\n",
              "    padding: 0 0 0 0;\n",
              "    width: 32px;\n",
              "  }\n",
              "\n",
              "  .colab-df-quickchart:hover {\n",
              "    background-color: #E2EBFA;\n",
              "    box-shadow: 0px 1px 2px rgba(60, 64, 67, 0.3), 0px 1px 3px 1px rgba(60, 64, 67, 0.15);\n",
              "    fill: #174EA6;\n",
              "  }\n",
              "\n",
              "  [theme=dark] .colab-df-quickchart {\n",
              "    background-color: #3B4455;\n",
              "    fill: #D2E3FC;\n",
              "  }\n",
              "\n",
              "  [theme=dark] .colab-df-quickchart:hover {\n",
              "    background-color: #434B5C;\n",
              "    box-shadow: 0px 1px 3px 1px rgba(0, 0, 0, 0.15);\n",
              "    filter: drop-shadow(0px 1px 2px rgba(0, 0, 0, 0.3));\n",
              "    fill: #FFFFFF;\n",
              "  }\n",
              "</style>\n",
              "\n",
              "    <script>\n",
              "      async function quickchart(key) {\n",
              "        const containerElement = document.querySelector('#' + key);\n",
              "        const charts = await google.colab.kernel.invokeFunction(\n",
              "            'suggestCharts', [key], {});\n",
              "      }\n",
              "    </script>\n",
              "\n",
              "      <script>\n",
              "\n",
              "function displayQuickchartButton(domScope) {\n",
              "  let quickchartButtonEl =\n",
              "    domScope.querySelector('#df-1b577dc4-226b-4284-9668-5bd06935c2c4 button.colab-df-quickchart');\n",
              "  quickchartButtonEl.style.display =\n",
              "    google.colab.kernel.accessAllowed ? 'block' : 'none';\n",
              "}\n",
              "\n",
              "        displayQuickchartButton(document);\n",
              "      </script>\n",
              "      <style>\n",
              "    .colab-df-container {\n",
              "      display:flex;\n",
              "      flex-wrap:wrap;\n",
              "      gap: 12px;\n",
              "    }\n",
              "\n",
              "    .colab-df-convert {\n",
              "      background-color: #E8F0FE;\n",
              "      border: none;\n",
              "      border-radius: 50%;\n",
              "      cursor: pointer;\n",
              "      display: none;\n",
              "      fill: #1967D2;\n",
              "      height: 32px;\n",
              "      padding: 0 0 0 0;\n",
              "      width: 32px;\n",
              "    }\n",
              "\n",
              "    .colab-df-convert:hover {\n",
              "      background-color: #E2EBFA;\n",
              "      box-shadow: 0px 1px 2px rgba(60, 64, 67, 0.3), 0px 1px 3px 1px rgba(60, 64, 67, 0.15);\n",
              "      fill: #174EA6;\n",
              "    }\n",
              "\n",
              "    [theme=dark] .colab-df-convert {\n",
              "      background-color: #3B4455;\n",
              "      fill: #D2E3FC;\n",
              "    }\n",
              "\n",
              "    [theme=dark] .colab-df-convert:hover {\n",
              "      background-color: #434B5C;\n",
              "      box-shadow: 0px 1px 3px 1px rgba(0, 0, 0, 0.15);\n",
              "      filter: drop-shadow(0px 1px 2px rgba(0, 0, 0, 0.3));\n",
              "      fill: #FFFFFF;\n",
              "    }\n",
              "  </style>\n",
              "\n",
              "      <script>\n",
              "        const buttonEl =\n",
              "          document.querySelector('#df-8b397aef-7e7d-4cdb-8606-714477f0db7c button.colab-df-convert');\n",
              "        buttonEl.style.display =\n",
              "          google.colab.kernel.accessAllowed ? 'block' : 'none';\n",
              "\n",
              "        async function convertToInteractive(key) {\n",
              "          const element = document.querySelector('#df-8b397aef-7e7d-4cdb-8606-714477f0db7c');\n",
              "          const dataTable =\n",
              "            await google.colab.kernel.invokeFunction('convertToInteractive',\n",
              "                                                     [key], {});\n",
              "          if (!dataTable) return;\n",
              "\n",
              "          const docLinkHtml = 'Like what you see? Visit the ' +\n",
              "            '<a target=\"_blank\" href=https://colab.research.google.com/notebooks/data_table.ipynb>data table notebook</a>'\n",
              "            + ' to learn more about interactive tables.';\n",
              "          element.innerHTML = '';\n",
              "          dataTable['output_type'] = 'display_data';\n",
              "          await google.colab.output.renderOutput(dataTable, element);\n",
              "          const docLink = document.createElement('div');\n",
              "          docLink.innerHTML = docLinkHtml;\n",
              "          element.appendChild(docLink);\n",
              "        }\n",
              "      </script>\n",
              "    </div>\n",
              "  </div>\n"
            ]
          },
          "metadata": {},
          "execution_count": 7
        }
      ]
    },
    {
      "cell_type": "code",
      "source": [
        "# Doing the same for Max Power\n",
        "\n",
        "# Creating new columns 'power' and 'rotational_speed' by extracting numerical values\n",
        "extracted_valuess = df['Max Power'].str.extract(r'(\\d+\\.?\\d*) bhp @ (\\d+\\.?\\d*) rpm')\n",
        "\n",
        "# Converting the extracted values to numeric types just as done with the power torque\n",
        "df['power'] = pd.to_numeric(extracted_valuess[0], errors='coerce')\n",
        "df['rotational_speed'] = pd.to_numeric(extracted_valuess[1], errors='coerce')\n",
        "\n",
        "# Dropping the Max Power column\n",
        "df.drop('Max Power', axis=1, inplace=True)\n",
        "\n",
        "df[['power', 'rotational_speed']].head()"
      ],
      "metadata": {
        "colab": {
          "base_uri": "https://localhost:8080/",
          "height": 206
        },
        "id": "V-bAQC6le0-7",
        "outputId": "b7ec5630-20e9-4b77-89dd-c0dff3aa7035"
      },
      "execution_count": null,
      "outputs": [
        {
          "output_type": "execute_result",
          "data": {
            "text/plain": [
              "   power  rotational_speed\n",
              "0   87.0            6000.0\n",
              "1   74.0            4000.0\n",
              "2   79.0            6000.0\n",
              "3   82.0            6000.0\n",
              "4  148.0            3400.0"
            ],
            "text/html": [
              "\n",
              "\n",
              "  <div id=\"df-2934fd32-9d29-45e0-ad33-1f2020326acb\">\n",
              "    <div class=\"colab-df-container\">\n",
              "      <div>\n",
              "<style scoped>\n",
              "    .dataframe tbody tr th:only-of-type {\n",
              "        vertical-align: middle;\n",
              "    }\n",
              "\n",
              "    .dataframe tbody tr th {\n",
              "        vertical-align: top;\n",
              "    }\n",
              "\n",
              "    .dataframe thead th {\n",
              "        text-align: right;\n",
              "    }\n",
              "</style>\n",
              "<table border=\"1\" class=\"dataframe\">\n",
              "  <thead>\n",
              "    <tr style=\"text-align: right;\">\n",
              "      <th></th>\n",
              "      <th>power</th>\n",
              "      <th>rotational_speed</th>\n",
              "    </tr>\n",
              "  </thead>\n",
              "  <tbody>\n",
              "    <tr>\n",
              "      <th>0</th>\n",
              "      <td>87.0</td>\n",
              "      <td>6000.0</td>\n",
              "    </tr>\n",
              "    <tr>\n",
              "      <th>1</th>\n",
              "      <td>74.0</td>\n",
              "      <td>4000.0</td>\n",
              "    </tr>\n",
              "    <tr>\n",
              "      <th>2</th>\n",
              "      <td>79.0</td>\n",
              "      <td>6000.0</td>\n",
              "    </tr>\n",
              "    <tr>\n",
              "      <th>3</th>\n",
              "      <td>82.0</td>\n",
              "      <td>6000.0</td>\n",
              "    </tr>\n",
              "    <tr>\n",
              "      <th>4</th>\n",
              "      <td>148.0</td>\n",
              "      <td>3400.0</td>\n",
              "    </tr>\n",
              "  </tbody>\n",
              "</table>\n",
              "</div>\n",
              "      <button class=\"colab-df-convert\" onclick=\"convertToInteractive('df-2934fd32-9d29-45e0-ad33-1f2020326acb')\"\n",
              "              title=\"Convert this dataframe to an interactive table.\"\n",
              "              style=\"display:none;\">\n",
              "\n",
              "  <svg xmlns=\"http://www.w3.org/2000/svg\" height=\"24px\"viewBox=\"0 0 24 24\"\n",
              "       width=\"24px\">\n",
              "    <path d=\"M0 0h24v24H0V0z\" fill=\"none\"/>\n",
              "    <path d=\"M18.56 5.44l.94 2.06.94-2.06 2.06-.94-2.06-.94-.94-2.06-.94 2.06-2.06.94zm-11 1L8.5 8.5l.94-2.06 2.06-.94-2.06-.94L8.5 2.5l-.94 2.06-2.06.94zm10 10l.94 2.06.94-2.06 2.06-.94-2.06-.94-.94-2.06-.94 2.06-2.06.94z\"/><path d=\"M17.41 7.96l-1.37-1.37c-.4-.4-.92-.59-1.43-.59-.52 0-1.04.2-1.43.59L10.3 9.45l-7.72 7.72c-.78.78-.78 2.05 0 2.83L4 21.41c.39.39.9.59 1.41.59.51 0 1.02-.2 1.41-.59l7.78-7.78 2.81-2.81c.8-.78.8-2.07 0-2.86zM5.41 20L4 18.59l7.72-7.72 1.47 1.35L5.41 20z\"/>\n",
              "  </svg>\n",
              "      </button>\n",
              "\n",
              "\n",
              "\n",
              "    <div id=\"df-b42a3009-a015-4a15-863a-0bbb51e8619a\">\n",
              "      <button class=\"colab-df-quickchart\" onclick=\"quickchart('df-b42a3009-a015-4a15-863a-0bbb51e8619a')\"\n",
              "              title=\"Suggest charts.\"\n",
              "              style=\"display:none;\">\n",
              "\n",
              "<svg xmlns=\"http://www.w3.org/2000/svg\" height=\"24px\"viewBox=\"0 0 24 24\"\n",
              "     width=\"24px\">\n",
              "    <g>\n",
              "        <path d=\"M19 3H5c-1.1 0-2 .9-2 2v14c0 1.1.9 2 2 2h14c1.1 0 2-.9 2-2V5c0-1.1-.9-2-2-2zM9 17H7v-7h2v7zm4 0h-2V7h2v10zm4 0h-2v-4h2v4z\"/>\n",
              "    </g>\n",
              "</svg>\n",
              "      </button>\n",
              "    </div>\n",
              "\n",
              "<style>\n",
              "  .colab-df-quickchart {\n",
              "    background-color: #E8F0FE;\n",
              "    border: none;\n",
              "    border-radius: 50%;\n",
              "    cursor: pointer;\n",
              "    display: none;\n",
              "    fill: #1967D2;\n",
              "    height: 32px;\n",
              "    padding: 0 0 0 0;\n",
              "    width: 32px;\n",
              "  }\n",
              "\n",
              "  .colab-df-quickchart:hover {\n",
              "    background-color: #E2EBFA;\n",
              "    box-shadow: 0px 1px 2px rgba(60, 64, 67, 0.3), 0px 1px 3px 1px rgba(60, 64, 67, 0.15);\n",
              "    fill: #174EA6;\n",
              "  }\n",
              "\n",
              "  [theme=dark] .colab-df-quickchart {\n",
              "    background-color: #3B4455;\n",
              "    fill: #D2E3FC;\n",
              "  }\n",
              "\n",
              "  [theme=dark] .colab-df-quickchart:hover {\n",
              "    background-color: #434B5C;\n",
              "    box-shadow: 0px 1px 3px 1px rgba(0, 0, 0, 0.15);\n",
              "    filter: drop-shadow(0px 1px 2px rgba(0, 0, 0, 0.3));\n",
              "    fill: #FFFFFF;\n",
              "  }\n",
              "</style>\n",
              "\n",
              "    <script>\n",
              "      async function quickchart(key) {\n",
              "        const containerElement = document.querySelector('#' + key);\n",
              "        const charts = await google.colab.kernel.invokeFunction(\n",
              "            'suggestCharts', [key], {});\n",
              "      }\n",
              "    </script>\n",
              "\n",
              "      <script>\n",
              "\n",
              "function displayQuickchartButton(domScope) {\n",
              "  let quickchartButtonEl =\n",
              "    domScope.querySelector('#df-b42a3009-a015-4a15-863a-0bbb51e8619a button.colab-df-quickchart');\n",
              "  quickchartButtonEl.style.display =\n",
              "    google.colab.kernel.accessAllowed ? 'block' : 'none';\n",
              "}\n",
              "\n",
              "        displayQuickchartButton(document);\n",
              "      </script>\n",
              "      <style>\n",
              "    .colab-df-container {\n",
              "      display:flex;\n",
              "      flex-wrap:wrap;\n",
              "      gap: 12px;\n",
              "    }\n",
              "\n",
              "    .colab-df-convert {\n",
              "      background-color: #E8F0FE;\n",
              "      border: none;\n",
              "      border-radius: 50%;\n",
              "      cursor: pointer;\n",
              "      display: none;\n",
              "      fill: #1967D2;\n",
              "      height: 32px;\n",
              "      padding: 0 0 0 0;\n",
              "      width: 32px;\n",
              "    }\n",
              "\n",
              "    .colab-df-convert:hover {\n",
              "      background-color: #E2EBFA;\n",
              "      box-shadow: 0px 1px 2px rgba(60, 64, 67, 0.3), 0px 1px 3px 1px rgba(60, 64, 67, 0.15);\n",
              "      fill: #174EA6;\n",
              "    }\n",
              "\n",
              "    [theme=dark] .colab-df-convert {\n",
              "      background-color: #3B4455;\n",
              "      fill: #D2E3FC;\n",
              "    }\n",
              "\n",
              "    [theme=dark] .colab-df-convert:hover {\n",
              "      background-color: #434B5C;\n",
              "      box-shadow: 0px 1px 3px 1px rgba(0, 0, 0, 0.15);\n",
              "      filter: drop-shadow(0px 1px 2px rgba(0, 0, 0, 0.3));\n",
              "      fill: #FFFFFF;\n",
              "    }\n",
              "  </style>\n",
              "\n",
              "      <script>\n",
              "        const buttonEl =\n",
              "          document.querySelector('#df-2934fd32-9d29-45e0-ad33-1f2020326acb button.colab-df-convert');\n",
              "        buttonEl.style.display =\n",
              "          google.colab.kernel.accessAllowed ? 'block' : 'none';\n",
              "\n",
              "        async function convertToInteractive(key) {\n",
              "          const element = document.querySelector('#df-2934fd32-9d29-45e0-ad33-1f2020326acb');\n",
              "          const dataTable =\n",
              "            await google.colab.kernel.invokeFunction('convertToInteractive',\n",
              "                                                     [key], {});\n",
              "          if (!dataTable) return;\n",
              "\n",
              "          const docLinkHtml = 'Like what you see? Visit the ' +\n",
              "            '<a target=\"_blank\" href=https://colab.research.google.com/notebooks/data_table.ipynb>data table notebook</a>'\n",
              "            + ' to learn more about interactive tables.';\n",
              "          element.innerHTML = '';\n",
              "          dataTable['output_type'] = 'display_data';\n",
              "          await google.colab.output.renderOutput(dataTable, element);\n",
              "          const docLink = document.createElement('div');\n",
              "          docLink.innerHTML = docLinkHtml;\n",
              "          element.appendChild(docLink);\n",
              "        }\n",
              "      </script>\n",
              "    </div>\n",
              "  </div>\n"
            ]
          },
          "metadata": {},
          "execution_count": 8
        }
      ]
    },
    {
      "cell_type": "code",
      "source": [
        "df.shape"
      ],
      "metadata": {
        "colab": {
          "base_uri": "https://localhost:8080/"
        },
        "id": "7PZn5YhKwzCU",
        "outputId": "bf46c8c7-e858-4e7a-d7da-8fa433de6d57"
      },
      "execution_count": null,
      "outputs": [
        {
          "output_type": "execute_result",
          "data": {
            "text/plain": [
              "(2059, 22)"
            ]
          },
          "metadata": {},
          "execution_count": 9
        }
      ]
    },
    {
      "cell_type": "code",
      "source": [
        "# Converting Engine column to numerical data\n",
        "df['Engine'] = pd.to_numeric(df['Engine'].str.replace(' cc', ''), errors='coerce').astype('float64')\n",
        "df['Engine'].head()"
      ],
      "metadata": {
        "colab": {
          "base_uri": "https://localhost:8080/"
        },
        "id": "4vEH710PgJtZ",
        "outputId": "586cdfe1-8f35-454f-c5e4-ff98af5ffcd8"
      },
      "execution_count": null,
      "outputs": [
        {
          "output_type": "execute_result",
          "data": {
            "text/plain": [
              "0    1198.0\n",
              "1    1248.0\n",
              "2    1197.0\n",
              "3    1197.0\n",
              "4    2393.0\n",
              "Name: Engine, dtype: float64"
            ]
          },
          "metadata": {},
          "execution_count": 10
        }
      ]
    },
    {
      "cell_type": "markdown",
      "source": [
        "Okay! We've converted all the non categorical non numerical columns with missing values to numerical data.\n",
        "\n",
        "Now, we'll drop all the rows with null values in the drivetrain column and fill all the null values in the other numerical columns with their mean values."
      ],
      "metadata": {
        "id": "PmQVRIbNhFyo"
      }
    },
    {
      "cell_type": "code",
      "source": [
        "df.shape"
      ],
      "metadata": {
        "colab": {
          "base_uri": "https://localhost:8080/"
        },
        "id": "nx0HJ2Dshf_1",
        "outputId": "5217f5f0-67dd-44e9-83f1-9d39e94f12a0"
      },
      "execution_count": null,
      "outputs": [
        {
          "output_type": "execute_result",
          "data": {
            "text/plain": [
              "(2059, 22)"
            ]
          },
          "metadata": {},
          "execution_count": 11
        }
      ]
    },
    {
      "cell_type": "code",
      "source": [
        "# # dropping rows with missing values\n",
        "df.dropna(subset=['Drivetrain', 'Engine', 'Fuel Tank Capacity', 'torque', 'rotational speed', 'power', 'rotational_speed'], inplace=True)\n",
        "print(df.shape)\n",
        "df.isnull().sum()"
      ],
      "metadata": {
        "colab": {
          "base_uri": "https://localhost:8080/"
        },
        "id": "0tllwZfkuADa",
        "outputId": "3f4c7578-e7f1-4f54-a87e-d9da17c522f6"
      },
      "execution_count": null,
      "outputs": [
        {
          "output_type": "stream",
          "name": "stdout",
          "text": [
            "(1802, 22)\n"
          ]
        },
        {
          "output_type": "execute_result",
          "data": {
            "text/plain": [
              "Make                  0\n",
              "Model                 0\n",
              "Price                 0\n",
              "Year                  0\n",
              "Kilometer             0\n",
              "Fuel Type             0\n",
              "Transmission          0\n",
              "Location              0\n",
              "Color                 0\n",
              "Owner                 0\n",
              "Seller Type           0\n",
              "Engine                0\n",
              "Drivetrain            0\n",
              "Length                0\n",
              "Width                 0\n",
              "Height                0\n",
              "Seating Capacity      0\n",
              "Fuel Tank Capacity    0\n",
              "torque                0\n",
              "rotational speed      0\n",
              "power                 0\n",
              "rotational_speed      0\n",
              "dtype: int64"
            ]
          },
          "metadata": {},
          "execution_count": 12
        }
      ]
    },
    {
      "cell_type": "markdown",
      "source": [
        "Yay! That was successful"
      ],
      "metadata": {
        "id": "Mxiq27cFmaTS"
      }
    },
    {
      "cell_type": "markdown",
      "source": [
        "## Exploratory Data Analysis (EDA)\n",
        "\n",
        "Here, we're going to understand how each of the features affects the price of the used cars to optimize our selection for training"
      ],
      "metadata": {
        "id": "jnK_822a2p7I"
      }
    },
    {
      "cell_type": "code",
      "source": [
        "# Summary Statistics\n",
        "print(\"Summary Statistics:\")\n",
        "print(df.describe())"
      ],
      "metadata": {
        "colab": {
          "base_uri": "https://localhost:8080/"
        },
        "id": "DKbdSgGa8Oah",
        "outputId": "61dae796-5991-4ef8-8735-8619f803d5f3"
      },
      "execution_count": null,
      "outputs": [
        {
          "output_type": "stream",
          "name": "stdout",
          "text": [
            "Summary Statistics:\n",
            "              Price         Year     Kilometer       Engine       Length  \\\n",
            "count  1.802000e+03  1802.000000  1.802000e+03  1802.000000  1802.000000   \n",
            "mean   1.759515e+06  2016.969478  5.200916e+04  1678.322420  4283.273585   \n",
            "std    2.457563e+06     2.871225  5.930951e+04   630.262203   434.197783   \n",
            "min    1.410000e+05  1988.000000  0.000000e+00   793.000000  3395.000000   \n",
            "25%    5.250000e+05  2015.000000  2.800000e+04  1197.000000  3985.000000   \n",
            "50%    8.625000e+05  2017.000000  4.800000e+04  1498.000000  4357.000000   \n",
            "75%    1.950000e+06  2019.000000  6.950000e+04  1995.000000  4620.000000   \n",
            "max    3.500000e+07  2022.000000  2.000000e+06  6592.000000  5569.000000   \n",
            "\n",
            "             Width       Height  Seating Capacity  Fuel Tank Capacity  \\\n",
            "count  1802.000000  1802.000000       1802.000000         1802.000000   \n",
            "mean   1769.886792  1589.879023          5.301332           52.203274   \n",
            "std     131.575637   134.221211          0.809911           15.034851   \n",
            "min    1475.000000  1213.000000          2.000000           27.000000   \n",
            "25%    1695.000000  1485.000000          5.000000           42.000000   \n",
            "50%    1775.000000  1544.000000          5.000000           50.000000   \n",
            "75%    1831.000000  1671.000000          5.000000           60.000000   \n",
            "max    2220.000000  1995.000000          8.000000          105.000000   \n",
            "\n",
            "            torque  rotational speed        power  rotational_speed  \n",
            "count  1802.000000       1802.000000  1802.000000       1802.000000  \n",
            "mean    245.264799       2617.857936   129.146892       4823.091010  \n",
            "std     138.524154       1207.089159    63.916349       1098.272917  \n",
            "min      54.000000        150.000000    39.000000       2910.000000  \n",
            "25%     115.000000       1600.000000    83.000000       4000.000000  \n",
            "50%     200.000000       1800.000000   116.000000       4200.000000  \n",
            "75%     350.000000       4000.000000   170.000000       6000.000000  \n",
            "max     780.000000       5600.000000   660.000000       8250.000000  \n"
          ]
        }
      ]
    },
    {
      "cell_type": "code",
      "source": [
        "# Setting up the figure and axis for subplot\n",
        "fig, axes = plt.subplots(nrows=2, ncols=2, figsize=(12, 10))\n",
        "plt.subplots_adjust(hspace=0.5)\n",
        "\n",
        "# Plot 1: Price vs. Kilometer\n",
        "sns.scatterplot(x='Kilometer', y='Price', data=df, ax=axes[0, 0])\n",
        "axes[0, 0].set_title('Price vs. Kilometer')\n",
        "\n",
        "# Plot 2: Price vs. Car Make\n",
        "sns.boxplot(x='Make', y='Price', data=df, ax=axes[0, 1])\n",
        "axes[0, 1].set_title('Price vs. Car Make')\n",
        "\n",
        "# Plot 3: Price vs. Fuel Type\n",
        "sns.boxplot(x='Fuel Type', y='Price', data=df, ax=axes[1, 0])\n",
        "axes[1, 0].set_title('Price vs. Fuel Type')\n",
        "\n",
        "# Plot 4: Price vs. Seating Capacity\n",
        "sns.barplot(x='Seating Capacity', y='Price', data=df, ax=axes[1, 1])\n",
        "axes[1, 1].set_title('Price vs. Seating Capacity')\n",
        "\n",
        "# Display the plots\n",
        "plt.show()"
      ],
      "metadata": {
        "colab": {
          "base_uri": "https://localhost:8080/",
          "height": 872
        },
        "id": "MVVofuppTcp8",
        "outputId": "c314c384-e1c0-488c-ec75-ea20db749b7b"
      },
      "execution_count": null,
      "outputs": [
        {
          "output_type": "display_data",
          "data": {
            "text/plain": [
              "<Figure size 1200x1000 with 4 Axes>"
            ],
            "image/png": "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