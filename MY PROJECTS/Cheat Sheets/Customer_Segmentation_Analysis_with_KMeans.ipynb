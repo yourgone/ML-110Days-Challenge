{
  "cells": [
    {
      "cell_type": "markdown",
      "metadata": {
        "id": "gJLjEZXAlUYm"
      },
      "source": [
        "# Segmenting Data with k-Means Clustering"
      ]
    },
    {
      "cell_type": "markdown",
      "metadata": {
        "id": "jGdcOsf3lUZB"
      },
      "source": [
        "## Learning Objectives\n",
        "The primary objective of clustering is to group items within a dataset based on similarity. **k-Means Clustering** is one of the most popular and easy to use clustering approaches. With k-Means Clustering, similarity is based on a distance metric known as euclidean distance. By the end of this tutorial, you will have learned:\n",
        "+ How to import, explore and prepare data for k-Means Clustering\n",
        "+ How to segment data using k-Means Clustering\n",
        "+ How to evaluate and visualize clusters\n",
        "+ How to choose an appropriate number of clusters\n",
        "+ How to analyze the results of k-Means Clustering"
      ]
    },
    {
      "cell_type": "markdown",
      "metadata": {
        "id": "NnEYmCBUlUZD"
      },
      "source": [
        "## 1. Collect the Data\n",
        "Let's import and preview it:"
      ]
    },
    {
      "cell_type": "code",
      "execution_count": 1,
      "metadata": {
        "scrolled": false,
        "colab": {
          "base_uri": "https://localhost:8080/",
          "height": 206
        },
        "id": "9XLmGXxIlUZE",
        "outputId": "2daaf079-088e-4a32-81d4-f77ead6c7e0f"
      },
      "outputs": [
        {
          "output_type": "execute_result",
          "data": {
            "text/plain": [
              "   CustomerID  Gender  Age  Income  SpendingScore\n",
              "0           1    Male   19   15000             39\n",
              "1           2    Male   21   15000             81\n",
              "2           3  Female   20   16000              6\n",
              "3           4  Female   23   16000             77\n",
              "4           5  Female   31   17000             40"
            ],
            "text/html": [
              "\n",
              "\n",
              "  <div id=\"df-8ce20815-7dc9-4c77-ab56-ad0b247fbc4c\">\n",
              "    <div class=\"colab-df-container\">\n",
              "      <div>\n",
              "<style scoped>\n",
              "    .dataframe tbody tr th:only-of-type {\n",
              "        vertical-align: middle;\n",
              "    }\n",
              "\n",
              "    .dataframe tbody tr th {\n",
              "        vertical-align: top;\n",
              "    }\n",
              "\n",
              "    .dataframe thead th {\n",
              "        text-align: right;\n",
              "    }\n",
              "</style>\n",
              "<table border=\"1\" class=\"dataframe\">\n",
              "  <thead>\n",
              "    <tr style=\"text-align: right;\">\n",
              "      <th></th>\n",
              "      <th>CustomerID</th>\n",
              "      <th>Gender</th>\n",
              "      <th>Age</th>\n",
              "      <th>Income</th>\n",
              "      <th>SpendingScore</th>\n",
              "    </tr>\n",
              "  </thead>\n",
              "  <tbody>\n",
              "    <tr>\n",
              "      <th>0</th>\n",
              "      <td>1</td>\n",
              "      <td>Male</td>\n",
              "      <td>19</td>\n",
              "      <td>15000</td>\n",
              "      <td>39</td>\n",
              "    </tr>\n",
              "    <tr>\n",
              "      <th>1</th>\n",
              "      <td>2</td>\n",
              "      <td>Male</td>\n",
              "      <td>21</td>\n",
              "      <td>15000</td>