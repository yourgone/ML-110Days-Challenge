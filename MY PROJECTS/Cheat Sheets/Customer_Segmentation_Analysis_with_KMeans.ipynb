{
  "cells": [
    {
      "cell_type": "markdown",
      "metadata": {
        "id": "gJLjEZXAlUYm"
      },
      "source": [
        "# Segmenting Data with k-Means Clustering"
      ]
    },
    {
      "cell_type": "markdown",
      "metadata": {
        "id": "jGdcOsf3lUZB"
      },
      "source": [
        "## Learning Objectives\n",
        "The primary objective of clustering is to group items within a dataset based on similarity. **k-Means Clustering** is one of the most popular and easy to use clustering approaches. With k-Means Clustering, similarity is based on a distance metric known as euclidean distance. By the end of this tutorial, you will have learned:\n",
        "+ How to import, explore and prepare data for k-Means Clustering\n",
        "+ How to segment data using k-Means Clustering\n",
        "+ How to evaluate and visualize clusters\n",
        "+ How to choose an appropriate number of clusters\n",
        "+ How to analyze the results of k-Means Clustering"
      ]
    },
    {
      "cell_type": "markdown",
      "metadata": {
        "id": "NnEYmCBUlUZD"
      },
      "source": [
        "## 1. Collect the Data\n",
        "Let's import and preview it:"
      ]
    },
    {
      "cell_type": "code",
      "execution_count": 1,
      "metadata": {
        "scrolled": false,
        "colab": {
          "base_uri": "https://localhost:8080/",
          "height": 206
        },
        "id": "9XLmGXxIlUZE",
        "outputId": "2daaf079-088e-4a32-81d4-f77ead6c7e0f"
      },
      "outputs": [
        {
          "output_type": "execute_result",
          "data": {
            "text/plain": [
              "   CustomerID  Gender  Age  Income  SpendingScore\n",
              "0           1    Male   19   15000             39\n",
              "1           2    Male   21   15000             81\n",
              "2           3  Female   20   16000              6\n",
              "3           4  Female   23   16000             77\n",
              "4           5  Female   31   17000             40"
            ],
            "text/html": [
              "\n",
              "\n",
              "  <div id=\"df-8ce20815-7dc9-4c77-ab56-ad0b247fbc4c\">\n",
              "    <div class=\"colab-df-container\">\n",
              "      <div>\n",
              "<style scoped>\n",
              "    .dataframe tbody tr th:only-of-type {\n",
              "        vertical-align: middle;\n",
              "    }\n",
              "\n",
              "    .dataframe tbody tr th {\n",
              "        vertical-align: top;\n",
              "    }\n",
              "\n",
              "    .dataframe thead th {\n",
              "        text-align: right;\n",
              "    }\n",
              "</style>\n",
              "<table border=\"1\" class=\"dataframe\">\n",
              "  <thead>\n",
              "    <tr style=\"text-align: right;\">\n",
              "      <th></th>\n",
              "      <th>CustomerID</th>\n",
              "      <th>Gender</th>\n",
              "      <th>Age</th>\n",
              "      <th>Income</th>\n",
              "      <th>SpendingScore</th>\n",
              "    </tr>\n",
              "  </thead>\n",
              "  <tbody>\n",
              "    <tr>\n",
              "      <th>0</th>\n",
              "      <td>1</td>\n",
              "      <td>Male</td>\n",
              "      <td>19</td>\n",
              "      <td>15000</td>\n",
              "      <td>39</td>\n",
              "    </tr>\n",
              "    <tr>\n",
              "      <th>1</th>\n",
              "      <td>2</td>\n",
              "      <td>Male</td>\n",
              "      <td>21</td>\n",
              "      <td>15000</td>\n",
              "      <td>81</td>\n",
              "    </tr>\n",
              "    <tr>\n",
              "      <th>2</th>\n",
              "      <td>3</td>\n",
              "      <td>Female</td>\n",
              "      <td>20</td>\n",
              "      <td>16000</td>\n",
              "      <td>6</td>\n",
              "    </tr>\n",
              "    <tr>\n",
              "      <th>3</th>\n",
              "      <td>4</td>\n",
              "      <td>Female</td>\n",
              "      <td>23</td>\n",
              "      <td>16000</td>\n",
              "      <td>77</td>\n",
              "    </tr>\n",
              "    <tr>\n",
              "      <th>4</th>\n",
              "      <td>5</td>\n",
              "      <td>Female</td>\n",
              "      <td>31</td>\n",
              "      <td>17000</td>\n",
              "      <td>40</td>\n",
              "    </tr>\n",
              "  </tbody>\n",
              "</table>\n",
              "</div>\n",
              "      <button class=\"colab-df-convert\" onclick=\"convertToInteractive('df-8ce20815-7dc9-4c77-ab56-ad0b247fbc4c')\"\n",
              "              title=\"Convert this dataframe to an interactive table.\"\n",
              "              style=\"display:none;\">\n",
              "\n",
              "  <svg xmlns=\"http://www.w3.org/2000/svg\" height=\"24px\"viewBox=\"0 0 24 24\"\n",
              "       width=\"24px\">\n",
              "    <path d=\"M0 0h24v24H0V0z\" fill=\"none\"/>\n",
              "    <path d=\"M18.56 5.44l.94 2.06.94-2.06 2.06-.94-2.06-.94-.94-2.06-.94 2.06-2.06.94zm-11 1L8.5 8.5l.94-2.06 2.06-.94-2.06-.94L8.5 2.5l-.94 2.06-2.06.94zm10 10l.94 2.06.94-2.06 2.06-.94-2.06-.94-.94-2.06-.94 2.06-2.06.94z\"/><path d=\"M17.41 7.96l-1.37-1.37c-.4-.4-.92-.59-1.43-.59-.52 0-1.04.2-1.43.59L10.3 9.45l-7.72 7.72c-.78.78-.78 2.05 0 2.83L4 21.41c.39.39.9.59 1.41.59.51 0 1.02-.2 1.41-.59l7.78-7.78 2.81-2.81c.8-.78.8-2.07 0-2.86zM5.41 20L4 18.59l7.72-7.72 1.47 1.35L5.41 20z\"/>\n",
              "  </svg>\n",
              "      </button>\n",
              "\n",
              "\n",
              "\n",
              "    <div id=\"df-4ae28ad8-801a-4586-8b8f-78e1f0390200\">\n",
              "      <button class=\"colab-df-quickchart\" onclick=\"quickchart('df-4ae28ad8-801a-4586-8b8f-78e1f0390200')\"\n",
              "              title=\"Suggest charts.\"\n",
              "              style=\"display:none;\">\n",
              "\n",
              "<svg xmlns=\"http://www.w3.org/2000/svg\" height=\"24px\"viewBox=\"0 0 24 24\"\n",
              "     width=\"24px\">\n",
              "    <g>\n",
              "        <path d=\"M19 3H5c-1.1 0-2 .9-2 2v14c0 1.1.9 2 2 2h14c1.1 0 2-.9 2-2V5c0-1.1-.9-2-2-2zM9 17H7v-7h2v7zm4 0h-2V7h2v10zm4 0h-2v-4h2v4z\"/>\n",
              "    </g>\n",
              "</svg>\n",
              "      </button>\n",
              "    </div>\n",
              "\n",
              "<style>\n",
              "  .colab-df-quickchart {\n",
              "    background-color: #E8F0FE;\n",
              "    border: none;\n",
              "    border-radius: 50%;\n",
              "    cursor: pointer;\n",
              "    display: none;\n",
              "    fill: #1967D2;\n",
              "    height: 32px;\n",
              "    padding: 0 0 0 0;\n",
              "    width: 32px;\n",
              "  }\n",
              "\n",
              "  .colab-df-quickchart:hover {\n",
              "    background-color: #E2EBFA;\n",
              "    box-shadow: 0px 1px 2px rgba(60, 64, 67, 0.3), 0px 1px 3px 1px rgba(60, 64, 67, 0.15);\n",
              "    fill: #174EA6;\n",
              "  }\n",
              "\n",
              "  [theme=dark] .colab-df-quickchart {\n",
              "    background-color: #3B4455;\n",
              "    fill: #D2E3FC;\n",
              "  }\n",
              "\n",
              "  [theme=dark] .colab-df-quickchart:hover {\n",
              "    background-color: #434B5C;\n",
              "    box-shadow: 0px 1px 3px 1px rgba(0, 0, 0, 0.15);\n",
              "    filter: drop-shadow(0px 1px 2px rgba(0, 0, 0, 0.3));\n",
              "    fill: #FFFFFF;\n",
              "  }\n",
              "</style>\n",
              "\n",
              "    <script>\n",
              "      async function quickchart(key) {\n",
              "        const containerElement = document.querySelector('#' + key);\n",
              "        const charts = await google.colab.kernel.invokeFunction(\n",
              "            'suggestCharts', [key], {});\n",
              "      }\n",
              "    </script>\n",
              "\n",
              "      <script>\n",
              "\n",
              "function displayQuickchartButton(domScope) {\n",
              "  let quickchartButtonEl =\n",
              "    domScope.querySelector('#df-4ae28ad8-801a-4586-8b8f-78e1f0390200 button.colab-df-quickchart');\n",
              "  quickchartButtonEl.style.display =\n",
              "    google.colab.kernel.accessAllowed ? 'block' : 'none';\n",
              "}\n",
              "\n",
              "        displayQuickchartButton(document);\n",
              "      </script>\n",
              "      <style>\n",
              "    .colab-df-container {\n",
              "      display:flex;\n",
              "      flex-wrap:wrap;\n",
              "      gap: 12px;\n",
              "    }\n",
              "\n",
              "    .colab-df-convert {\n",
              "      background-color: #E8F0FE;\n",
              "      border: none;\n",
              "      border-radius: 50%;\n",
              "      cursor: pointer;\n",
              "      display: none;\n",
              "      fill: #1967D2;\n",
              "      height: 32px;\n",
              "      padding: 0 0 0 0;\n",
              "      width: 32px;\n",
              "    }\n",
              "\n",
              "    .colab-df-convert:hover {\n",
              "      background-color: #E2EBFA;\n",
              "      box-shadow: 0px 1px 2px rgba(60, 64, 67, 0.3), 0px 1px 3px 1px rgba(60, 64, 67, 0.15);\n",
              "      fill: #174EA6;\n",
              "    }\n",
              "\n",
              "    [theme=dark] .colab-df-convert {\n",
              "      background-color: #3B4455;\n",
              "      fill: #D2E3FC;\n",
              "    }\n",
              "\n",
              "    [theme=dark] .colab-df-convert:hover {\n",
              "      background-color: #434B5C;\n",
              "      box-shadow: 0px 1px 3px 1px rgba(0, 0, 0, 0.15);\n",
              "      filter: drop-shadow(0px 1px 2px rgba(0, 0, 0, 0.3));\n",
              "      fill: #FFFFFF;\n",
              "    }\n",
              "  </style>\n",
              "\n",
              "      <script>\n",
              "        const buttonEl =\n",
              "          document.querySelector('#df-8ce20815-7dc9-4c77-ab56-ad0b247fbc4c button.colab-df-convert');\n",
              "        buttonEl.style.display =\n",
              "          google.colab.kernel.accessAllowed ? 'block' : 'none';\n",
              "\n",
              "        async function convertToInteractive(key) {\n",
              "          const element = document.querySelector('#df-8ce20815-7dc9-4c77-ab56-ad0b247fbc4c');\n",
              "          const dataTable =\n",
              "            await google.colab.kernel.invokeFunction('convertToInteractive',\n",
              "                                                     [key], {});\n",
              "          if (!dataTable) return;\n",
              "\n",
              "          const docLinkHtml = 'Like what you see? Visit the ' +\n",
              "            '<a target=\"_blank\" href=https://colab.research.google.com/notebooks/data_table.ipynb>data table notebook</a>'\n",
              "            + ' to learn more about interactive tables.';\n",
              "          element.innerHTML = '';\n",
              "          dataTable['output_type'] = 'display_data';\n",
              "          await google.colab.output.renderOutput(dataTable, element);\n",
              "          const docLink = document.createElement('div');\n",
              "          docLink.innerHTML = docLinkHtml;\n",
              "          element.appendChild(docLink);\n",
              "        }\n",
              "      </script>\n",
              "    </div>\n",
              "  </div>\n"
            ]
          },
          "metadata": {},
          "execution_count": 1
        }
      ],
      "source": [
        "import pandas as pd\n",
        "customers = pd.read_csv(\"mallcustomers.csv\")\n",
        "customers.head()"
      ]
    },
    {
      "cell_type": "markdown",
      "metadata": {
        "id": "HqVRg30QlUZG"
      },
      "source": [
        "## 2. Explore the Data\n",
        "Next, let's get a concise summary of the structure and the values within the dataset:"
      ]
    },
    {
      "cell_type": "code",
      "execution_count": 2,
      "metadata": {
        "scrolled": true,
        "colab": {
          "base_uri": "https://localhost:8080/"
        },
        "id": "EF_HAEwflUZH",
        "outputId": "ccd35bdf-58ab-4c6d-f40d-cf082fd43c5a"
      },
      "outputs": [
        {
          "output_type": "stream",
          "name": "stdout",
          "text": [
            "<class 'pandas.core.frame.DataFrame'>\n",
            "RangeIndex: 200 entries, 0 to 199\n",
            "Data columns (total 5 columns):\n",
            " #   Column         Non-Null Count  Dtype \n",
            "---  ------         --------------  ----- \n",
            " 0   CustomerID     200 non-null    int64 \n",
            " 1   Gender         200 non-null    object\n",
            " 2   Age            200 non-null    int64 \n",
            " 3   Income         200 non-null    int64 \n",
            " 4   SpendingScore  200 non-null    int64 \n",
            "dtypes: int64(4), object(1)\n",
            "memory usage: 7.9+ KB\n"
          ]
        }
      ],
      "source": [
        "customers.info()"
      ]
    },
    {
      "cell_type": "code",
      "execution_count": 3,
      "metadata": {
        "scrolled": false,
        "colab": {
          "base_uri": "https://localhost:8080/",
          "height": 394
        },
        "id": "YtTxWW64lUZI",
        "outputId": "be1866ad-ff72-4956-cc9f-de9992b1bde8"
      },
      "outputs": [
        {
          "output_type": "execute_result",
          "data": {
            "text/plain": [
              "        CustomerID  Gender     Age     Income  SpendingScore\n",
              "count       200.00     200  200.00     200.00         200.00\n",
              "unique         NaN       2     NaN        NaN            NaN\n",
              "top            NaN  Female     NaN        NaN            NaN\n",
              "freq           NaN     112     NaN        NaN            NaN\n",
              "mean        100.50     NaN   38.85   60560.00          50.20\n",
              "std          57.88     NaN   13.97   26264.72          25.82\n",
              "min           1.00     NaN   18.00   15000.00           1.00\n",
              "25%          50.75     NaN   28.75   41500.00          34.75\n",
              "50%         100.50     NaN   36.00   61500.00          50.00\n",
              "75%         150.25     NaN   49.00   78000.00          73.00\n",
              "max         200.00     NaN   70.00  137000.00          99.00"
            ],
            "text/html": [
              "\n",
              "\n",
              "  <div id=\"df-8d7f50b0-017b-48f2-b865-9619e9e4c7f5\">\n",
              "    <div class=\"colab-df-container\">\n",
              "      <div>\n",
              "<style scoped>\n",
              "    .dataframe tbody tr th:only-of-type {\n",
              "        vertical-align: middle;\n",
              "    }\n",
              "\n",
              "    .dataframe tbody tr th {\n",
              "        vertical-align: top;\n",
              "    }\n",
              "\n",
              "    .dataframe thead th {\n",
              "        text-align: right;\n",
              "    }\n",
              "</style>\n",
              "<table border=\"1\" class=\"dataframe\">\n",
              "  <thead>\n",
              "    <tr style=\"text-align: right;\">\n",
              "      <th></th>\n",
              "      <th>CustomerID</th>\n",
              "      <th>Gender</th>\n",
              "      <th>Age</th>\n",
              "      <th>Income</th>\n",
              "      <th>SpendingScore</th>\n",
              "    </tr>\n",
              "  </thead>\n",
              "  <tbody>\n",
              "    <tr>\n",
              "      <th>count</th>\n",
              "      <td>200.00</td>\n",
              "      <td>200</td>\n",
              "      <td>200.00</td>\n",
              "      <td>200.00</td>\n",
              "      <td>200.00</td>\n",
              "    </tr>\n",
              "    <tr>\n",
              "      <th>unique</th>\n",
              "      <td>NaN</td>\n",
              "      <td>2</td>\n",
              "      <td>NaN</td>\n",
              "      <td>NaN</td>\n",
              "      <td>NaN</td>\n",
              "    </tr>\n",
              "    <tr>\n",
              "      <th>top</th>\n",
              "      <td>NaN</td>\n",
              "      <td>Female</td>\n",
              "      <td>NaN</td>\n",
              "      <td>NaN</td>\n",
              "      <td>NaN</td>\n",
              "    </tr>\n",
              "    <tr>\n",
              "      <th>freq</th>\n",
              "      <td>NaN</td>\n",
              "      <td>112</td>\n",
              "      <td>NaN</td>\n",
              "      <td>NaN</td>\n",
              "      <td>NaN</td>\n",
              "    </tr>\n",
              "    <tr>\n",
              "      <th>mean</th>\n",
              "      <td>100.50</td>\n",
              "      <td>NaN</td>\n",
              "      <td>38.85</td>\n",
              "      <td>60560.00</td>\n",
              "      <td>50.20</td>\n",
              "    </tr>\n",
              "    <tr>\n",
              "      <th>std</th>\n",
              "      <td>57.88</td>\n",
              "      <td>NaN</td>\n",
              "      <td>13.97</td>\n",
              "      <td>26264.72</td>\n",
              "      <td>25.82</td>\n",
              "    </tr>\n",
              "    <tr>\n",
              "      <th>min</th>\n",
              "      <td>1.00</td>\n",
              "      <td>NaN</td>\n",
              "      <td>18.00</td>\n",
              "      <td>15000.00</td>\n",
              "      <td>1.00</td>\n",
              "    </tr>\n",
              "    <tr>\n",
              "      <th>25%</th>\n",
              "      <td>50.75</td>\n",
              "      <td>NaN</td>\n",
              "      <td>28.75</td>\n",
              "      <td>41500.00</td>\n",
              "      <td>34.75</td>\n",
              "    </tr>\n",
              "    <tr>\n",
              "      <th>50%</th>\n",
              "      <td>100.50</td>\n",
              "      <td>NaN</td>\n",
              "      <td>36.00</td>\n",
              "      <td>61500.00</td>\n",
              "      <td>50.00</td>\n",
              "    </tr>\n",
              "    <tr>\n",
              "      <th>75%</th>\n",
              "      <td>150.25</td>\n",
              "      <td>NaN</td>\n",
              "      <td>49.00</td>\n",
              "      <td>78000.00</td>\n",
              "      <td>73.00</td>\n",
              "    </tr>\n",
              "    <tr>\n",
              "      <th>max</th>\n",
              "      <td>200.00</td>\n",
              "      <td>NaN</td>\n",
              "      <td>70.00</td>\n",
              "      <td>137000.00</td>\n",
              "      <td>99.00</td>\n",
              "    </tr>\n",
              "  </tbody>\n",
              "</table>\n",
              "</div>\n",
              "      <button class=\"colab-df-convert\" onclick=\"convertToInteractive('df-8d7f50b0-017b-48f2-b865-9619e9e4c7f5')\"\n",
              "              title=\"Convert this dataframe to an interactive table.\"\n",
              "              style=\"display:none;\">\n",
              "\n",
              "  <svg xmlns=\"http://www.w3.org/2000/svg\" height=\"24px\"viewBox=\"0 0 24 24\"\n",
              "       width=\"24px\">\n",
              "    <path d=\"M0 0h24v24H0V0z\" fill=\"none\"/>\n",
              "    <path d=\"M18.56 5.44l.94 2.06.94-2.06 2.06-.94-2.06-.94-.94-2.06-.94 2.06-2.06.94zm-11 1L8.5 8.5l.94-2.06 2.06-.94-2.06-.94L8.5 2.5l-.94 2.06-2.06.94zm10 10l.94 2.06.94-2.06 2.06-.94-2.06-.94-.94-2.06-.94 2.06-2.06.94z\"/><path d=\"M17.41 7.96l-1.37-1.37c-.4-.4-.92-.59-1.43-.59-.52 0-1.04.2-1.43.59L10.3 9.45l-7.72 7.72c-.78.78-.78 2.05 0 2.83L4 21.41c.39.39.9.59 1.41.59.51 0 1.02-.2 1.41-.59l7.78-7.78 2.81-2.81c.8-.78.8-2.07 0-2.86zM5.41 20L4 18.59l7.72-7.72 1.47 1.35L5.41 20z\"/>\n",
              "  </svg>\n",
              "      </button>\n",
              "\n",
              "\n",
              "\n",
              "    <div id=\"df-aac6532b-1245-4c3b-96ba-09e29f2da202\">\n",
              "      <button class=\"colab-df-quickchart\" onclick=\"quickchart('df-aac6532b-1245-4c3b-96ba-09e29f2da202')\"\n",
              "              title=\"Suggest charts.\"\n",
              "              style=\"display:none;\">\n",
              "\n",
              "<svg xmlns=\"http://www.w3.org/2000/svg\" height=\"24px\"viewBox=\"0 0 24 24\"\n",
              "     width=\"24px\">\n",
              "    <g>\n",
              "        <path d=\"M19 3H5c-1.1 0-2 .9-2 2v14c0 1.1.9 2 2 2h14c1.1 0 2-.9 2-2V5c0-1.1-.9-2-2-2zM9 17H7v-7h2v7zm4 0h-2V7h2v10zm4 0h-2v-4h2v4z\"/>\n",
              "    </g>\n",
              "</svg>\n",
              "      </button>\n",
              "    </div>\n",
              "\n",
              "<style>\n",
              "  .colab-df-quickchart {\n",
              "    background-color: #E8F0FE;\n",
              "    border: none;\n",
              "    border-radius: 50%;\n",
              "    cursor: pointer;\n",
              "    display: none;\n",
              "    fill: #1967D2;\n",
              "    height: 32px;\n",
              "    padding: 0 0 0 0;\n",
              "    width: 32px;\n",
              "  }\n",
              "\n",
              "  .colab-df-quickchart:hover {\n",
              "    background-color: #E2EBFA;\n",
              "    box-shadow: 0px 1px 2px rgba(60, 64, 67, 0.3), 0px 1px 3px 1px rgba(60, 64, 67, 0.15);\n",
              "    fill: #174EA6;\n",
              "  }\n",
              "\n",
              "  [theme=dark] .colab-df-quickchart {\n",
              "    background-color: #3B4455;\n",
              "    fill: #D2E3FC;\n",
              "  }\n",
              "\n",
              "  [theme=dark] .colab-df-quickchart:hover {\n",
              "    background-color: #434B5C;\n",
              "    box-shadow: 0px 1px 3px 1px rgba(0, 0, 0, 0.15);\n",
              "    filter: drop-shadow(0px 1px 2px rgba(0, 0, 0, 0.3));\n",
              "    fill: #FFFFFF;\n",
              "  }\n",
              "</style>\n",
              "\n",
              "    <script>\n",
              "      async function quickchart(key) {\n",
              "        const containerElement = document.querySelector('#' + key);\n",
              "        const charts = await google.colab.kernel.invokeFunction(\n",
              "            'suggestCharts', [key], {});\n",
              "      }\n",
              "    </script>\n",
              "\n",
              "      <script>\n",
              "\n",
              "function displayQuickchartButton(domScope) {\n",
              "  let quickchartButtonEl =\n",
              "    domScope.querySelector('#df-aac6532b-1245-4c3b-96ba-09e29f2da202 button.colab-df-quickchart');\n",
              "  quickchartButtonEl.style.display =\n",
              "    google.colab.kernel.accessAllowed ? 'block' : 'none';\n",
              "}\n",
              "\n",
              "        displayQuickchartButton(document);\n",
              "      </script>\n",
              "      <style>\n",
              "    .colab-df-container {\n",
              "      display:flex;\n",
              "      flex-wrap:wrap;\n",
              "      gap: 12px;\n",
              "    }\n",
              "\n",
              "    .colab-df-convert {\n",
              "      background-color: #E8F0FE;\n",
              "      border: none;\n",
              "      border-radius: 50%;\n",
              "      cursor: pointer;\n",
              "      display: none;\n",
              "      fill: #1967D2;\n",
              "      height: 32px;\n",
              "      padding: 0 0 0 0;\n",
              "      width: 32px;\n",
              "    }\n",
              "\n",
              "    .colab-df-convert:hover {\n",
              "      background-color: #E2EBFA;\n",
              "      box-shadow: 0px 1px 2px rgba(60, 64, 67, 0.3), 0px 1px 3px 1px rgba(60, 64, 67, 0.15);\n",
              "      fill: #174EA6;\n",
              "    }\n",
              "\n",
              "    [theme=dark] .colab-df-convert {\n",
              "      background-color: #3B4455;\n",
              "      fill: #D2E3FC;\n",
              "    }\n",
              "\n",
              "    [theme=dark] .colab-df-convert:hover {\n",
              "      background-color: #434B5C;\n",
              "      box-shadow: 0px 1px 3px 1px rgba(0, 0, 0, 0.15);\n",
              "      filter: drop-shadow(0px 1px 2px rgba(0, 0, 0, 0.3));\n",
              "      fill: #FFFFFF;\n",
              "    }\n",
              "  </style>\n",
              "\n",
              "      <script>\n",
              "        const buttonEl =\n",
              "          document.querySelector('#df-8d7f50b0-017b-48f2-b865-9619e9e4c7f5 button.colab-df-convert');\n",
              "        buttonEl.style.display =\n",
              "          google.colab.kernel.accessAllowed ? 'block' : 'none';\n",
              "\n",
              "        async function convertToInteractive(key) {\n",
              "          const element = document.querySelector('#df-8d7f50b0-017b-48f2-b865-9619e9e4c7f5');\n",
              "          const dataTable =\n",
              "            await google.colab.kernel.invokeFunction('convertToInteractive',\n",
              "                                                     [key], {});\n",
              "          if (!dataTable) return;\n",
              "\n",
              "          const docLinkHtml = 'Like what you see? Visit the ' +\n",
              "            '<a target=\"_blank\" href=https://colab.research.google.com/notebooks/data_table.ipynb>data table notebook</a>'\n",
              "            + ' to learn more about interactive tables.';\n",
              "          element.innerHTML = '';\n",
              "          dataTable['output_type'] = 'display_data';\n",
              "          await google.colab.output.renderOutput(dataTable, element);\n",
              "          const docLink = document.createElement('div');\n",
              "          docLink.innerHTML = docLinkHtml;\n",
              "          element.appendChild(docLink);\n",
              "        }\n",
              "      </script>\n",
              "    </div>\n",
              "  </div>\n"
            ]
          },
          "metadata": {},
          "execution_count": 3
        }
      ],
      "source": [
        "customers.describe(include = 'all').round(2)"
      ]
    },
    {
      "cell_type": "markdown",
      "metadata": {
        "id": "lU6X-qI-lUZN"
      },
      "source": [
        "A visual exploration of the dataset can provide us with some additional insight."
      ]
    },
    {
      "cell_type": "code",
      "execution_count": 4,
      "metadata": {
        "id": "hjCm-S9UlUZP"
      },
      "outputs": [],
      "source": [
        "from matplotlib import pyplot as plt\n",
        "import seaborn as sns\n",
        "sns.set_theme()"
      ]
    },
    {
      "cell_type": "code",
      "execution_count": 5,
      "metadata": {
        "colab": {
          "base_uri": "https://localhost:8080/",
          "height": 458
        },
        "id": "fscmNHYolUZQ",
        "outputId": "2a1edf15-a800-459a-d9cd-8358892565c2"
      },
      "outputs": [
        {
          "output_type": "display_data",
          "data": {
            "text/plain": [
              "<Figure size 640x480 with 1 Axes>"
            ],
            "image/png": "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\n"
          },
          "metadata": {}
        }
      ],
      "source": [
        "ax = sns.boxplot(data = customers,\n",
        "                 x = 'Gender',\n",
        "                 y = 'Income',\n",
        "                 palette = 'colorblind')"
      ]
    },
    {
      "cell_type": "code",
      "execution_count": 6,
      "metadata": {
        "colab": {
          "base_uri": "https://localhost:8080/",
          "height": 458
        },
        "id": "DkhAyd0elUZS",
        "outputId": "e81ae6fb-8722-4bbc-d209-fe11b9d84366"
      },
      "outputs": [
        {
          "output_type": "display_data",
          "data": {
            "text/plain": [
              "<Figure size 640x480 with 1 Axes>"
            ],
            "image/png": "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\n"
          },
          "metadata": {}
        }
      ],
      "source": [
        "ax = sns.boxplot(data = customers,\n",
        "                 x = 'Gender',\n",
        "                 y = 'Age',\n",
        "                 palette = 'colorblind')"
      ]
    },
    {
      "cell_type": "code",
      "execution_count": 7,
      "metadata": {
        "scrolled": true,
        "colab": {
          "base_uri": "https://localhost:8080/",
          "height": 458
        },
        "id": "sP_6diC9lUZT",
        "outputId": "3edf401d-685c-43a6-f9a5-97586c89ef8f"
      },
      "outputs": [
        {
          "output_type": "display_data",
          "data": {
            "text/plain": [
              "<Figure size 640x480 with 1 Axes>"
            ],
            "image/png": "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\n"
          },
          "metadata": {}
        }
      ],
      "source": [
        "ax = sns.boxplot(data = customers,\n",
        "                 x = 'Gender',\n",
        "                 y = 'SpendingScore',\n",
        "                 palette = 'colorblind')"
      ]
    },
    {
      "cell_type": "code",
      "execution_count": 8,
      "metadata": {
        "scrolled": true,
        "colab": {
          "base_uri": "https://localhost:8080/",
          "height": 458
        },
        "id": "h13diqLZlUZU",
        "outputId": "5377a2b4-35fd-41b4-afcb-afa47253bbd6"
      },
      "outputs": [
        {
          "output_type": "display_data",
          "data": {
            "text/plain": [
              "<Figure size 640x480 with 1 Axes>"
            ],
            "image/png": "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\n"
          },
          "metadata": {}
        }
      ],
      "source": [
        "ax = sns.scatterplot(data = customers,\n",
        "                     x = 'Age',\n",
        "                     y = 'Income',\n",
        "                     s = 150)"
      ]
    },
    {
      "cell_type": "code",
      "execution_count": 9,
      "metadata": {
        "scrolled": false,
        "colab": {
          "base_uri": "https://localhost:8080/",
          "height": 458
        },
        "id": "4ZxyMXcrlUZU",
        "outputId": "3400f28f-20ab-4dc1-b303-c6a404974338"
      },
      "outputs": [
        {
          "output_type": "display_data",
          "data": {
            "text/plain": [
              "<Figure size 640x480 with 1 Axes>"
            ],
            "image/png": "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