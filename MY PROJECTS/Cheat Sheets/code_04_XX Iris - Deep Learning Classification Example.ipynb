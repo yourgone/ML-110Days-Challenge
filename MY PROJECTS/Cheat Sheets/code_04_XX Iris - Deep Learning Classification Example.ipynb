{
 "cells": [
  {
   "cell_type": "markdown",
   "id": "2b9cc808",
   "metadata": {},
   "source": [
    "# Deep Learning Example - Iris \n",
    "\n",
    "This examples demonstrates the core deep learning model building concepts using the Keras library. The Iris flower dataset is used to build the model and perform classification tasks"
   ]
  },
  {
   "cell_type": "markdown",
   "id": "7141cfab",
   "metadata": {},
   "source": [
    "### 5.1 Setup"
   ]
  },
  {
   "cell_type": "code",
   "execution_count": 2,
   "id": "17aae7a8",
   "metadata": {},
   "outputs": [
    {
     "name": "stdout",
     "output_type": "stream",
     "text": [
      "Requirement already satisfied: pandas in /Users/linkedin/opt/anaconda3/envs/deeplearning/lib/python3.8/site-packages (1.3.3)\n",
      "Requirement already satisfied: python-dateutil>=2.7.3 in /Users/linkedin/opt/anaconda3/envs/deeplearning/lib/python3.8/site-packages (from pandas) (2.8.2)\n",
      "Requirement already satisfied: numpy>=1.17.3 in /Users/linkedin/opt/anaconda3/envs/deeplearning/lib/python3.8/site-packages (from pandas) (1.19.5)\n",
      "Requirement already satisfied: pytz>=2017.3 in /Users/linkedin/opt/anaconda3/envs/deeplearning/lib/python3.8/site-packages (from pandas) (2021.3)\n",
      "Requirement already satisfied: six>=1.5 in /Users/linkedin/opt/anaconda3/envs/deeplearning/lib/python3.8/site-packages (from python-dateutil>=2.7.3->pandas) (1.15.0)\n",
      "Requirement already satisfied: tensorflow in /Users/linkedin/opt/anaconda3/envs/deeplearning/lib/python3.8/site-packages (2.6.0)\n",
      "Requirement already satisfied: absl-py~=0.10 in /Users/linkedin/opt/anaconda3/envs/deeplearning/lib/python3.8/site-packages (from tensorflow) (0.14.1)\n",
      "Requirement already satisfied: clang~=5.0 in /Users/linkedin/opt/anaconda3/envs/deeplearning/lib/python3.8/site-packages (from tensorflow) (5.0)\n",
      "Requirement already satisfied: wheel~=0.35 in /Users/linkedin/opt/anaconda3/envs/deeplearning/lib/python3.8/site-packages (from tensorflow) (0.37.0)\n",
      "Requirement already satisfied: flatbuffers~=1.12.0 in /Users/linkedin/opt/anaconda3/envs/deeplearning/lib/python3.8/site-packages (from tensorflow) (1.12)\n",
      "Requirement already satisfied: tensorflow-estimator~=2.6 in /Users/linkedin/opt/anaconda3/envs/deeplearning/lib/python3.8/site-packages (from tensorflow) (2.6.0)\n",
      "Requirement already satisfied: opt-einsum~=3.3.0 in /Users/linkedin/opt/anaconda3/envs/deeplearning/lib/python3.8/site-packages (from tensorflow) (3.3.0)\n",
      "Requirement already satisfied: gast==0.4.0 in /Users/linkedin/opt/anaconda3/envs/deeplearning/lib/python3.8/site-packages (from tensorflow) (0.4.0)\n",
      "Requirement already satisfied: google-pasta~=0.2 in /Users/linkedin/opt/anaconda3/envs/deeplearning/lib/python3.8/site-packages (from tensorflow) (0.2.0)\n",
      "Requirement already satisfied: tensorboard~=2.6 in /Users/linkedin/opt/anaconda3/envs/deeplearning/lib/python3.8/site-packages (from tensorflow) (2.6.0)\n",
      "Requirement already satisfied: astunparse~=1.6.3 in /Users/linkedin/opt/anaconda3/envs/deeplearning/lib/python3.8/site-packages (from tensorflow) (1.6.3)\n",
      "Requirement already satisfied: typing-extensions~=3.7.4 in /Users/linkedin/opt/anaconda3/envs/deeplearning/lib/python3.8/site-packages (from tensorflow) (3.7.4.3)\n",
      "Requirement already satisfied: keras-preprocessing~=1.1.2 in /Users/linkedin/opt/anaconda3/envs/deeplearning/lib/python3.8/site-packages (from tensorflow) (1.1.2)\n",
      "Requirement already satisfied: numpy~=1.19.2 in /Users/linkedin/opt/anaconda3/envs/deeplearning/lib/python3.8/site-packages (from tensorflow) (1.19.5)\n",
      "Requirement already satisfied: six~=1.15.0 in /Users/linkedin/opt/anaconda3/envs/deeplearning/lib/python3.8/site-packages (from tensorflow) (1.15.0)\n",
      "Requirement already satisfied: termcolor~=1.1.0 in /Users/linkedin/opt/anaconda3/envs/deeplearning/lib/python3.8/site-packages (from tensorflow) (1.1.0)\n",
      "Requirement already satisfied: wrapt~=1.12.1 in /Users/linkedin/opt/anaconda3/envs/deeplearning/lib/python3.8/site-packages (from tensorflow) (1.12.1)\n",
      "Requirement already satisfied: grpcio<2.0,>=1.37.0 in /Users/linkedin/opt/anaconda3/envs/deeplearning/lib/python3.8/site-packages (from tensorflow) (1.41.0)\n",
      "Requirement already satisfied: keras~=2.6 in /Users/linkedin/opt/anaconda3/envs/deeplearning/lib/python3.8/site-packages (from tensorflow) (2.6.0)\n",
      "Requirement already satisfied: h5py~=3.1.0 in /Users/linkedin/opt/anaconda3/envs/deeplearning/lib/python3.8/site-packages (from tensorflow) (3.1.0)\n",
      "Requirement already satisfied: protobuf>=3.9.2 in /Users/linkedin/opt/anaconda3/envs/deeplearning/lib/python3.8/site-packages (from tensorflow) (3.18.0)\n",
      "Requirement already satisfied: markdown>=2.6.8 in /Users/linkedin/opt/anaconda3/envs/deeplearning/lib/python3.8/site-packages (from tensorboard~=2.6->tensorflow) (3.3.4)\n",
      "Requirement already satisfied: setuptools>=41.0.0 in /Users/linkedin/opt/anaconda3/envs/deeplearning/lib/python3.8/site-packages (from tensorboard~=2.6->tensorflow) (58.0.4)\n",
      "Requirement already satisfied: requests<3,>=2.21.0 in /Users/linkedin/opt/anaconda3/envs/deeplearning/lib/python3.8/site-packages (from tensorboard~=2.6->tensorflow) (2.26.0)\n",
      "Requirement already satisfied: werkzeug>=0.11.15 in /Users/linkedin/opt/anaconda3/envs/deeplearning/lib/python3.8/site-packages (from tensorboard~=2.6->tensorflow) (2.0.1)\n",
      "Requirement already satisfied: google-auth<2,>=1.6.3 in /Users/linkedin/opt/anaconda3/envs/deeplearning/lib/python3.8/site-packages (from tensorboard~=2.6->tensorflow) (1.35.0)\n",
      "Requirement already satisfied: google-auth-oauthlib<0.5,>=0.4.1 in /Users/linkedin/opt/anaconda3/envs/deeplearning/lib/python3.8/site-packages (from tensorboard~=2.6->tensorflow) (0.4.6)\n",
      "Requirement already satisfied: tensorboard-plugin-wit>=1.6.0 in /Users/linkedin/opt/anaconda3/envs/deeplearning/lib/python3.8/site-packages (from tensorboard~=2.6->tensorflow) (1.8.0)\n",
      "Requirement already satisfied: tensorboard-data-server<0.7.0,>=0.6.0 in /Users/linkedin/opt/anaconda3/envs/deeplearning/lib/python3.8/site-packages (from tensorboard~=2.6->tensorflow) (0.6.1)\n",
      "Requirement already satisfied: pyasn1-modules>=0.2.1 in /Users/linkedin/opt/anaconda3/envs/deeplearning/lib/python3.8/site-packages (from google-auth<2,>=1.6.3->tensorboard~=2.6->tensorflow) (0.2.8)\n",
      "Requirement already satisfied: cachetools<5.0,>=2.0.0 in /Users/linkedin/opt/anaconda3/envs/deeplearning/lib/python3.8/site-packages (from google-auth<2,>=1.6.3->tensorboard~=2.6->tensorflow) (4.2.4)\n",
      "Requirement already satisfied: rsa<5,>=3.1.4 in /Users/linkedin/opt/anaconda3/envs/deeplearning/lib/python3.8/site-packages (from google-auth<2,>=1.6.3->tensorboard~=2.6->tensorflow) (4.7.2)\n",
      "Requirement already satisfied: requests-oauthlib>=0.7.0 in /Users/linkedin/opt/anaconda3/envs/deeplearning/lib/python3.8/site-packages (from google-auth-oauthlib<0.5,>=0.4.1->tensorboard~=2.6->tensorflow) (1.3.0)\n",
      "Requirement already satisfied: pyasn1<0.5.0,>=0.4.6 in /Users/linkedin/opt/anaconda3/envs/deeplearning/lib/python3.8/site-packages (from pyasn1-modules>=0.2.1->google-auth<2,>=1.6.3->tensorboard~=2.6->tensorflow) (0.4.8)\n",
      "Requirement already satisfied: urllib3<1.27,>=1.21.1 in /Users/linkedin/opt/anaconda3/envs/deeplearning/lib/python3.8/site-packages (from requests<3,>=2.21.0->tensorboard~=2.6->tensorflow) (1.26.7)\n",
      "Requirement already satisfied: charset-normalizer~=2.0.0 in /Users/linkedin/opt/anaconda3/envs/deeplearning/lib/python3.8/site-packages (from requests<3,>=2.21.0->tensorboard~=2.6->tensorflow) (2.0.6)\n",
      "Requirement already satisfied: idna<4,>=2.5 in /Users/linkedin/opt/anaconda3/envs/deeplearning/lib/python3.8/site-packages (from requests<3,>=2.21.0->tensorboard~=2.6->tensorflow) (3.2)\n",
      "Requirement already satisfied: certifi>=2017.4.17 in /Users/linkedin/opt/anaconda3/envs/deeplearning/lib/python3.8/site-packages (from requests<3,>=2.21.0->tensorboard~=2.6->tensorflow) (2021.5.30)\n",
      "Requirement already satisfied: oauthlib>=3.0.0 in /Users/linkedin/opt/anaconda3/envs/deeplearning/lib/python3.8/site-packages (from requests-oauthlib>=0.7.0->google-auth-oauthlib<0.5,>=0.4.1->tensorboard~=2.6->tensorflow) (3.1.1)\n",
      "Requirement already satisfied: sklearn in /Users/linkedin/opt/anaconda3/envs/deeplearning/lib/python3.8/site-packages (0.0)\n",
      "Requirement already satisfied: scikit-learn in /Users/linkedin/opt/anaconda3/envs/deeplearning/lib/python3.8/site-packages (from sklearn) (1.0)\n",
      "Requirement already satisfied: threadpoolctl>=2.0.0 in /Users/linkedin/opt/anaconda3/envs/deeplearning/lib/python3.8/site-packages (from scikit-learn->sklearn) (3.0.0)\n",
      "Requirement already satisfied: joblib>=0.11 in /Users/linkedin/opt/anaconda3/envs/deeplearning/lib/python3.8/site-packages (from scikit-learn->sklearn) (1.0.1)\n",
      "Requirement already satisfied: scipy>=1.1.0 in /Users/linkedin/opt/anaconda3/envs/deeplearning/lib/python3.8/site-packages (from scikit-learn->sklearn) (1.7.1)\n",
      "Requirement already satisfied: numpy>=1.14.6 in /Users/linkedin/opt/anaconda3/envs/deeplearning/lib/python3.8/site-packages (from scikit-learn->sklearn) (1.19.5)\n"
     ]
    },
    {
     "name": "stdout",
     "output_type": "stream",
     "text": [
      "Requirement already satisfied: matplotlib in /Users/linkedin/opt/anaconda3/envs/deeplearning/lib/python3.8/site-packages (3.4.3)\r\n",
      "Requirement already satisfied: pillow>=6.2.0 in /Users/linkedin/opt/anaconda3/envs/deeplearning/lib/python3.8/site-packages (from matplotlib) (8.3.2)\r\n",
      "Requirement already satisfied: python-dateutil>=2.7 in /Users/linkedin/opt/anaconda3/envs/deeplearning/lib/python3.8/site-packages (from matplotlib) (2.8.2)\r\n",
      "Requirement already satisfied: kiwisolver>=1.0.1 in /Users/linkedin/opt/anaconda3/envs/deeplearning/lib/python3.8/site-packages (from matplotlib) (1.3.2)\r\n",
      "Requirement already satisfied: numpy>=1.16 in /Users/linkedin/opt/anaconda3/envs/deeplearning/lib/python3.8/site-packages (from matplotlib) (1.19.5)\r\n",
      "Requirement already satisfied: cycler>=0.10 in /Users/linkedin/opt/anaconda3/envs/deeplearning/lib/python3.8/site-packages (from matplotlib) (0.10.0)\r\n",
      "Requirement already satisfied: pyparsing>=2.2.1 in /Users/linkedin/opt/anaconda3/envs/deeplearning/lib/python3.8/site-packages (from matplotlib) (2.4.7)\r\n",
      "Requirement already satisfied: six in /Users/linkedin/opt/anaconda3/envs/deeplearning/lib/python3.8/site-packages (from cycler>=0.10->matplotlib) (1.15.0)\r\n"
     ]
    }
   ],
   "source": [
    "#Install related libraries for the course. \n",
    "#This is a common requirement for all other exampels too\n",
    "\n",
    "!pip install pandas\n",
    "!pip install tensorflow\n",
    "!pip install sklearn\n",
    "!pip install matplotlib"
   ]
  },
  {
   "cell_type": "markdown",
   "id": "2fabf059",
   "metadata": {},
   "source": [
    "### 4.2. Prepare Input Data for Deep Learning\n",
    "\n",
    "Perform the following steps for preparing data\n",
    "\n",
    "1. Load data into a pandas dataframe\n",
    "2. Convert the dataframe to a numpy array\n",
    "3. Scale the feature dataset\n",
    "4. Use one-hot-encoding for the target variable\n",
    "5. Split into training and test datasets\n"
   ]
  },
  {
   "cell_type": "code",
   "execution_count": 3,
   "id": "6db4bd81",
   "metadata": {},
   "outputs": [
    {
     "name": "stdout",
     "output_type": "stream",
     "text": [
      "\n",
      "Loaded Data :\n",
      "------------------------------------\n",
      "   Sepal.Length  Sepal.Width  Petal.Length  Petal.Width Species\n",
      "0           5.1          3.5           1.4          0.2  setosa\n",
      "1           4.9          3.0           1.4          0.2  setosa\n",
      "2           4.7          3.2           1.3          0.2  setosa\n",
      "3           4.6          3.1           1.5          0.2  setosa\n",
      "4           5.0          3.6           1.4          0.2  setosa\n",
      "\n",
      "Features before scaling :\n",
      "------------------------------------\n",
      "[[5.1 3.5 1.4 0.2]\n",
      " [4.9 3.  1.4 0.2]\n",
      " [4.7 3.2 1.3 0.2]\n",
      " [4.6 3.1 1.5 0.2]\n",
      " [5.  3.6 1.4 0.2]]\n",
      "\n",
      "Target before scaling :\n",
      "------------------------------------\n",
      "[0. 0. 0. 0. 0.]\n",
      "\n",
      "Features after scaling :\n",
      "------------------------------------\n",
      "[[-0.90068117  1.01900435 -1.34022653 -1.3154443 ]\n",
      " [-1.14301691 -0.13197948 -1.34022653 -1.3154443 ]\n",
      " [-1.38535265  0.32841405 -1.39706395 -1.3154443 ]\n",
      " [-1.50652052  0.09821729 -1.2833891  -1.3154443 ]\n",
      " [-1.02184904  1.24920112 -1.34022653 -1.3154443 ]]\n",
      "\n",
      "Target after one-hot-encoding :\n",
      "------------------------------------\n",
      "[[1. 0. 0.]\n",
      " [1. 0. 0.]\n",
      " [1. 0. 0.]\n",
      " [1. 0. 0.]\n",
      " [1. 0. 0.]]\n",
      "\n",
      "Train Test Dimensions:\n",
      "------------------------------------\n",
      "(135, 4) (135, 3) (15, 4) (15, 3)\n"
     ]
    }
   ],
   "source": [
    "import pandas as pd\n",
    "import os\n",
    "import tensorflow as tf\n",
    "import numpy as np\n",
    "from sklearn.model_selection import train_test_split\n",
    "from sklearn.preprocessing import StandardScaler\n",
    "\n",
    "#Load Data and review content\n",
    "iris_data = pd.read_csv(\"iris.csv\")\n",
    "\n",
    "print(\"\\nLoaded Data :\\n------------------------------------\")\n",
    "print(iris_data.head())\n",
    "\n",
    "#Use a Label encoder to convert String to numeric values \n",
    "#for the target variable\n",
    "\n",
    "from sklearn import preprocessing\n",
    "label_encoder = preprocessing.LabelEncoder()\n",
    "iris_data['Species'] = label_encoder.fit_transform(\n",
    "                                iris_data['Species'])\n",
    "\n",
    "#Convert input to numpy array\n",
    "np_iris = iris_data.to_numpy()\n",
    "\n",
    "#Separate feature and target variables\n",
    "X_data = np_iris[:,0:4]\n",
    "Y_data=np_iris[:,4]\n",
    "\n",
    "print(\"\\nFeatures before scaling :\\n------------------------------------\")\n",
    "print(X_data[:5,:])\n",
    "print(\"\\nTarget before scaling :\\n------------------------------------\")\n",
    "print(Y_data[:5])\n",
    "\n",
    "#Create a scaler model that is fit on the input data.\n",
    "scaler = StandardScaler().fit(X_data)\n",
    "\n",
    "#Scale the numeric feature variables\n",
    "X_data = scaler.transform(X_data)\n",
    "\n",
    "#Convert target variable as a one-hot-encoding array\n",
    "Y_data = tf.keras.utils.to_categorical(Y_data,3)\n",
    "\n",
    "print(\"\\nFeatures after scaling :\\n------------------------------------\")\n",
    "print(X_data[:5,:])\n",
    "print(\"\\nTarget after one-hot-encoding :\\n------------------------------------\")\n",
    "print(Y_data[:5,:])\n",
    "\n",
    "#Split training and test data\n",
    "X_train,X_test,Y_train,Y_test = train_test_split( X_data, Y_data, test_size=0.10)\n",
    "\n",
    "print(\"\\nTrain Test Dimensions:\\n------------------------------------\")\n",
    "print(X_train.shape, Y_train.shape, X_test.shape, Y_test.shape)"
   ]
  },
  {
   "cell_type": "markdown",
   "id": "8bb5fad2",
   "metadata": {},
   "source": [
    "### 4.3. Creating a Model\n",
    "\n",
    "Creating a model in Keras requires defining the following\n",
    "\n",
    "1. Number of hidden layers\n",
    "2. Number of nodes in each layer\n",
    "3. Activation functions\n",
    "4. Loss Function & Accuracy measurements"
   ]
  },
  {
   "cell_type": "code",
   "execution_count": 4,
   "id": "d4a0be90",
   "metadata": {},
   "outputs": [
    {
     "name": "stdout",
     "output_type": "stream",
     "text": [
      "Model: \"sequential\"\n",
      "_________________________________________________________________\n",
      "Layer (type)                 Output Shape              Param #   \n",
      "=================================================================\n",
      "Hidden-Layer-1 (Dense)       (None, 128)               640       \n",
      "_________________________________________________________________\n",
      "Hidden-Layer-2 (Dense)       (None, 128)               16512     \n",
      "_________________________________________________________________\n",
      "Output-Layer (Dense)         (None, 3)                 387       \n",
      "=================================================================\n",
      "Total params: 17,539\n",
      "Trainable params: 17,539\n",
      "Non-trainable params: 0\n",
      "_________________________________________________________________\n"
     ]
    },
    {
     "name": "stderr",
     "output_type": "stream",
     "text": [
      "2021-10-02 08:22:29.187893: I tensorflow/core/platform/cpu_feature_guard.cc:142] This TensorFlow binary is optimized with oneAPI Deep Neural Network Library (oneDNN) to use the following CPU instructions in performance-critical operations:  AVX2 FMA\n",
      "To enable them in other operations, rebuild TensorFlow with the appropriate compiler flags.\n"
     ]
    }
   ],
   "source": [
    "\n",
    "from tensorflow import keras\n",
    "\n",
    "#Number of classes in the target variable\n",
    "NB_CLASSES=3\n",
    "\n",
    "#Create a sequencial model in Keras\n",
    "model = tf.keras.models.Sequential()\n",
    "\n",
    "#Add the first hidden layer\n",
    "model.add(keras.layers.Dense(128,                    #Number of nodes\n",
    "                             input_shape=(4,),       #Number of input variables\n",
    "                              name='Hidden-Layer-1', #Logical name\n",
    "                              activation='relu'))    #activation function\n",
    "\n",
    "#Add a second hidden layer\n",
    "model.add(keras.layers.Dense(128,\n",
    "                              name='Hidden-Layer-2',\n",
    "                              activation='relu'))\n",
    "\n",
    "#Add an output layer with softmax activation\n",
    "model.add(keras.layers.Dense(NB_CLASSES,\n",
    "                             name='Output-Layer',\n",
    "                             activation='softmax'))\n",
    "\n",
    "#Compile the model with loss & metrics\n",
    "model.compile(loss='categorical_crossentropy',\n",
    "              metrics=['accuracy'])\n",
    "\n",
    "#Print the model meta-data\n",
    "model.summary()\n"
   ]
  },
  {
   "cell_type": "markdown",
   "id": "95c6677e",
   "metadata": {},
   "source": [
    "### 4.4. Training and evaluating the Model\n",
    "\n",
    "Training the model involves defining various training models and then perform \n",
    "forward and back propagation."
   ]
  },
  {
   "cell_type": "code",
   "execution_count": 5,
   "id": "55a9ddba",
   "metadata": {},
   "outputs": [
    {
     "name": "stdout",
     "output_type": "stream",
     "text": [
      "\n",
      "Training Progress:\n",
      "------------------------------------\n",
      "Epoch 1/10\n"
     ]
    },
    {
     "name": "stderr",
     "output_type": "stream",
     "text": [
      "2021-10-02 08:30:49.300887: I tensorflow/compiler/mlir/mlir_graph_optimization_pass.cc:185] None of the MLIR Optimization Passes are enabled (registered 2)\n"
     ]
    },
    {
     "name": "stdout",
     "output_type": "stream",
     "text": [
      "7/7 [==============================] - 1s 26ms/step - loss: 0.7714 - accuracy: 0.7315 - val_loss: 0.6208 - val_accuracy: 0.8519\n",
      "Epoch 2/10\n",
      "7/7 [==============================] - 0s 4ms/step - loss: 0.5176 - accuracy: 0.8241 - val_loss: 0.4969 - val_accuracy: 0.8519\n",
      "Epoch 3/10\n",
      "7/7 [==============================] - 0s 5ms/step - loss: 0.4196 - accuracy: 0.8333 - val_loss: 0.4353 - val_accuracy: 0.8519\n",
      "Epoch 4/10\n",
      "7/7 [==============================] - 0s 4ms/step - loss: 0.3740 - accuracy: 0.8426 - val_loss: 0.3933 - val_accuracy: 0.8519\n",
      "Epoch 5/10\n",
      "7/7 [==============================] - 0s 4ms/step - loss: 0.3282 - accuracy: 0.8519 - val_loss: 0.3599 - val_accuracy: 0.8519\n",
      "Epoch 6/10\n",
      "7/7 [==============================] - 0s 4ms/step - loss: 0.3056 - accuracy: 0.8611 - val_loss: 0.3313 - val_accuracy: 0.8519\n",
      "Epoch 7/10\n",
      "7/7 [==============================] - 0s 5ms/step - loss: 0.2763 - accuracy: 0.8519 - val_loss: 0.3112 - val_accuracy: 0.8519\n",
      "Epoch 8/10\n",
      "7/7 [==============================] - 0s 4ms/step - loss: 0.2594 - accuracy: 0.8796 - val_loss: 0.2926 - val_accuracy: 0.8519\n",
      "Epoch 9/10\n",
      "7/7 [==============================] - 0s 4ms/step - loss: 0.2361 - accuracy: 0.8981 - val_loss: 0.2700 - val_accuracy: 0.9259\n",
      "Epoch 10/10\n",
      "7/7 [==============================] - 0s 4ms/step - loss: 0.2209 - accuracy: 0.9167 - val_loss: 0.2573 - val_accuracy: 0.8889\n",
      "\n",
      "Accuracy during Training :\n",
      "------------------------------------\n"
     ]
    },
    {
     "data": {
      "image/png": "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