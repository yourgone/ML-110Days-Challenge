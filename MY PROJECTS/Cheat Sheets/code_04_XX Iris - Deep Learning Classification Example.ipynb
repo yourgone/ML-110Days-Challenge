{
 "cells": [
  {
   "cell_type": "markdown",
   "id": "2b9cc808",
   "metadata": {},
   "source": [
    "# Deep Learning Example - Iris \n",
    "\n",
    "This examples demonstrates the core deep learning model building concepts using the Keras library. The Iris flower dataset is used to build the model and perform classification tasks"
   ]
  },
  {
   "cell_type": "markdown",
   "id": "7141cfab",
   "metadata": {},
   "source": [
    "### 5.1 Setup"
   ]
  },
  {
   "cell_type": "code",
   "execution_count": 2,
   "id": "17aae7a8",
   "metadata": {},
   "outputs": [
    {
     "name": "stdout",
     "output_type": "stream",
     "text": [
      "Requirement already satisfied: pandas in /Users/linkedin/opt/anaconda3/envs/deeplearning/lib/python3.8/site-packages (1.3.3)\n",
      "Requirement already satisfied: python-dateutil>=2.7.3 in /Users/linkedin/opt/anaconda3/envs/deeplearning/lib/python3.8/site-packages (from pandas) (2.8.2)\n",
      "Requirement already satisfied: numpy>=1.17.3 in /Users/linkedin/opt/anaconda3/envs/deeplearning/lib/python3.8/site-packages (from pandas) (1.19.5)\n",
      "Requirement already satisfied: pytz>=2017.3 in /Users/linkedin/opt/anaconda3/envs/deeplearning/lib/python3.8/site-packages (from pandas) (2021.3)\n",
      "Requirement already satisfied: six>=1.5 in /Users/linkedin/opt/anaconda3/envs/deeplearning/lib/python3.8/site-packages (from python-dateutil>=2.7.3->pandas) (1.15.0)\n",
      "Requirement already satisfied: tensorflow in /Users/linkedin/opt/anaconda3/envs/deeplearning/lib/python3.8/site-packages (2.6.0)\n",
      "Requirement already satisfied: absl-py~=0.10 in /Users/linkedin/opt/anaconda3/envs/deeplearning/lib/python3.8/site-packages (from tensorflow) (0.14.1)\n",
      "Requirement already satisfied: clang~=5.0 in /Users/linkedin/opt/anaconda3/envs/deeplearning/lib/python3.8/site-packages (from tensorflow) (5.0)\n",
      "Requirement already satisfied: wheel~=0.35 in /Users/linkedin/opt/anaconda3/envs/deeplearning/lib/python3.8/site-packages (from tensorflow) (0.37.0)\n",
      "Requirement already satisfied: flatbuffers~=1.12.0 in /Users/linkedin/opt/anaconda3/envs/deeplearning/lib/python3.8/site-packages (from tensorflow) (1.12)\n",
      "Requirement already satisfied: tensorflow-estimator~=2.6 in /Users/linkedin/opt/anaconda3/envs/deeplearning/lib/python3.8/site-packages (from tensorflow) (2.6.0)\n",
      "Requirement already satisfied: opt-einsum~=3.3.0 in /Users/linkedin/opt/anaconda3/envs/deeplearning/lib/python3.8/site-packages (from tensorflow) (3.3.0)\n",
      "Requirement already satisfied: gast==0.4.0 in /Users/linkedin/opt/anaconda3/envs/deeplearning/lib/python3.8/site-packages (from tensorflow) (0.4.0)\n",
      "Requirement already satisfied: google-pasta~=0.2 in /Users/linkedin/opt/anaconda3/envs/deeplearning/lib/python3.8/site-packag